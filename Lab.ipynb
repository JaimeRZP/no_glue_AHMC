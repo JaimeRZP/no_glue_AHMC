{
 "cells": [
  {
   "cell_type": "markdown",
   "id": "91129cb1",
   "metadata": {},
   "source": [
    "# No-glue-code"
   ]
  },
  {
   "cell_type": "markdown",
   "id": "97121235",
   "metadata": {},
   "source": [
    "## Model"
   ]
  },
  {
   "cell_type": "code",
   "execution_count": 22,
   "id": "baed58e3",
   "metadata": {},
   "outputs": [],
   "source": [
    "# The statistical inference frame-work we will use\n",
    "using Turing\n",
    "using AdvancedHMC\n",
    "using LogDensityProblems\n",
    "using LogDensityProblemsAD\n",
    "using DynamicPPL\n",
    "using ForwardDiff\n",
    "# Some data management libs.\n",
    "using CSV\n",
    "using NPZ\n",
    "using YAML\n",
    "#Plotting\n",
    "using Plots\n",
    "# Some Lin. Alg.\n",
    "using LinearAlgebra\n",
    "using Interpolations\n",
    "# Allows us to use Python when needed\n",
    "using PyPlot"
   ]
  },
  {
   "cell_type": "code",
   "execution_count": 23,
   "id": "a7d6f81c",
   "metadata": {},
   "outputs": [],
   "source": [
    "fs8_zs = [0.38, 0.51, 0.61, 1.48, 0.44, 0.6, 0.73, 0.6, 0.86, 0.067, 1.4]\n",
    "fs8_data = [0.49749, 0.457523, 0.436148, 0.462, 0.413, 0.39, 0.437, 0.55, 0.4, 0.423, 0.482]\n",
    "fs8_cov = [0.00203355 0.000811829 0.000264615 0.0 0.0 0.0 0.0 0.0 0.0 0.0 0.0;\n",
    "           0.000811829 0.00142289 0.000662824 0.0 0.0 0.0 0.0 0.0 0.0 0.0 0.0; \n",
    "           0.000264615 0.000662824 0.00118576 0.0 0.0 0.0 0.0 0.0 0.0 0.0 0.0;\n",
    "           0.0 0.0 0.0 0.002025 0.0 0.0 0.0 0.0 0.0 0.0 0.0;\n",
    "           0.0 0.0 0.0 0.0 0.0064 0.00257 0.0 0.0 0.0 0.0 0.0;\n",
    "           0.0 0.0 0.0 0.0 0.00257 0.003969 0.00254 0.0 0.0 0.0 0.0;\n",
    "           0.0 0.0 0.0 0.0 0.0 0.00254 0.005184 0.0 0.0 0.0 0.0;\n",
    "           0.0 0.0 0.0 0.0 0.0 0.0 0.0 0.0144 0.0 0.0 0.0;\n",
    "           0.0 0.0 0.0 0.0 0.0 0.0 0.0 0.0 0.0121 0.0 0.0; \n",
    "           0.0 0.0 0.0 0.0 0.0 0.0 0.0 0.0 0.0 0.003025 0.0;\n",
    "           0.0 0.0 0.0 0.0 0.0 0.0 0.0 0.0 0.0 0.0 0.013456000000000001];"
   ]
  },
  {
   "cell_type": "code",
   "execution_count": 24,
   "id": "1359a630",
   "metadata": {
    "code_folding": []
   },
   "outputs": [
    {
     "data": {
      "text/plain": [
       "make_fs8 (generic function with 1 method)"
      ]
     },
     "execution_count": 24,
     "metadata": {},
     "output_type": "execute_result"
    }
   ],
   "source": [
    "function make_fs8(Ωm, σ8; Ωr=8.24*10^-5)\n",
    "    # ODE solution for growth factor\n",
    "    x_Dz = LinRange(0, log(1+1100), 300)\n",
    "    dx_Dz = x_Dz[2]-x_Dz[1]\n",
    "    z_Dz = @.(exp(x_Dz) - 1)\n",
    "    a_Dz = @.(1/(1+z_Dz))\n",
    "    aa = reverse(a_Dz)\n",
    "    e =  @.(sqrt.(abs(Ωm)*(1+z_Dz)^3+Ωr*(1+z_Dz)^4+(1-Ωm-Ωr)))\n",
    "    ee = reverse(e)\n",
    "\n",
    "    dd = zeros(typeof(Ωm), 300)\n",
    "    yy = zeros(typeof(Ωm), 300)\n",
    "    dd[1] = aa[1]\n",
    "    yy[1] = aa[1]^3*ee[end]\n",
    "\n",
    "    for i in 1:(300-1)\n",
    "        A0 = -1.5 * Ωm / (aa[i]*ee[i])\n",
    "        B0 = -1. / (aa[i]^2*ee[i])\n",
    "        A1 = -1.5 * Ωm / (aa[i+1]*ee[i+1])\n",
    "        B1 = -1. / (aa[i+1]^2*ee[i+1])\n",
    "        yy[i+1] = (1+0.5*dx_Dz^2*A0*B0)*yy[i] + 0.5*(A0+A1)*dx_Dz*dd[i]\n",
    "        dd[i+1] = 0.5*(B0+B1)*dx_Dz*yy[i] + (1+0.5*dx_Dz^2*A0*B0)*dd[i]\n",
    "    end\n",
    "\n",
    "    y = reverse(yy)\n",
    "    d = reverse(dd)\n",
    "\n",
    "    Dzi = linear_interpolation(z_Dz, d./d[1], extrapolation_bc=Line())\n",
    "    fs8zi = linear_interpolation(z_Dz, -σ8 .* y./ (a_Dz.^2 .*e.*d[1]),\n",
    "                                 extrapolation_bc=Line())\n",
    "    return fs8zi\n",
    "end"
   ]
  },
  {
   "cell_type": "code",
   "execution_count": 25,
   "id": "8005e277",
   "metadata": {},
   "outputs": [],
   "source": [
    "@model function model(data; cov = fs8_cov) \n",
    "    # Define priors\n",
    "    #KiDS priors\n",
    "    Ωm ~ Uniform(0.1, 0.9)\n",
    "    σ8 ~ Uniform(0.4, 1.2)\n",
    "    fs8_itp = make_fs8(Ωm, σ8)\n",
    "    theory = fs8_itp(fs8_zs)\n",
    "    data ~ MvNormal(theory, cov)\n",
    "end;"
   ]
  },
  {
   "cell_type": "code",
   "execution_count": 26,
   "id": "1eebe796",
   "metadata": {},
   "outputs": [
    {
     "data": {
      "text/plain": [
       "Model{typeof(model), (:data, :cov), (:cov,), (), Tuple{Vector{Float64}, Matrix{Float64}}, Tuple{Matrix{Float64}}, DefaultContext}(model, (data = [0.49749, 0.457523, 0.436148, 0.462, 0.413, 0.39, 0.437, 0.55, 0.4, 0.423, 0.482], cov = [0.00203355 0.000811829 … 0.0 0.0; 0.000811829 0.00142289 … 0.0 0.0; … ; 0.0 0.0 … 0.003025 0.0; 0.0 0.0 … 0.0 0.013456000000000001]), (cov = [0.00203355 0.000811829 … 0.0 0.0; 0.000811829 0.00142289 … 0.0 0.0; … ; 0.0 0.0 … 0.003025 0.0; 0.0 0.0 … 0.0 0.013456000000000001],), DefaultContext())"
      ]
     },
     "execution_count": 26,
     "metadata": {},
     "output_type": "execute_result"
    }
   ],
   "source": [
    "stat_model = model(fs8_data)"
   ]
  },
  {
   "cell_type": "code",
   "execution_count": 27,
   "id": "96aa5549",
   "metadata": {},
   "outputs": [
    {
     "data": {
      "text/plain": [
       "Turing.Inference.NUTS{Turing.Essential.ForwardDiffAD{0}, (), DiagEuclideanMetric}(1000, 0.65, 10, 1000.0, 0.0)"
      ]
     },
     "execution_count": 27,
     "metadata": {},
     "output_type": "execute_result"
    }
   ],
   "source": [
    "adaptation = 1000\n",
    "TAP = 0.65\n",
    "alg = Turing.NUTS(adaptation, TAP)"
   ]
  },
  {
   "cell_type": "markdown",
   "id": "e1cb8e03",
   "metadata": {
    "heading_collapsed": true
   },
   "source": [
    "## Getting MAP and Hessian"
   ]
  },
  {
   "cell_type": "code",
   "execution_count": 28,
   "id": "56874cd3",
   "metadata": {
    "hidden": true
   },
   "outputs": [
    {
     "data": {
      "text/plain": [
       "maximum_a_posteriori (generic function with 1 method)"
      ]
     },
     "execution_count": 28,
     "metadata": {},
     "output_type": "execute_result"
    }
   ],
   "source": [
    "using Optim\n",
    "\n",
    "function Xi2(params; model=stat_model)\n",
    "    Ωm, σ8 = params\n",
    "    return loglikelihood(model, (Ωm=Ωm, σ8=σ8))\n",
    "end;\n",
    "    \n",
    "function maximum_a_posteriori(model, lower_bound, upper_bound)\n",
    "    start_value = (upper_bound .+ lower_bound) ./ 2 \n",
    "    opt = optimize((v)->-Xi2(v), lower_bound, upper_bound, start_value, Fminbox())\n",
    "    return Optim.minimizer(opt)\n",
    "end"
   ]
  },
  {
   "cell_type": "code",
   "execution_count": 29,
   "id": "f48c433c",
   "metadata": {
    "hidden": true
   },
   "outputs": [
    {
     "data": {
      "text/plain": [
       "2-element Vector{Float64}:\n",
       " 0.21256856798079346\n",
       " 0.876354015459887"
      ]
     },
     "execution_count": 29,
     "metadata": {},
     "output_type": "execute_result"
    }
   ],
   "source": [
    "MAP = maximum_a_posteriori(stat_model, [0.2, 0.4], [0.6, 1.2])"
   ]
  },
  {
   "cell_type": "code",
   "execution_count": 30,
   "id": "01a11feb",
   "metadata": {
    "hidden": true
   },
   "outputs": [],
   "source": [
    "# Get the Hessian\n",
    "hess = ForwardDiff.hessian(Xi2, MAP)\n",
    "inv_hess = inv(hess);"
   ]
  },
  {
   "cell_type": "code",
   "execution_count": 31,
   "id": "9c6ca1e4",
   "metadata": {
    "hidden": true
   },
   "outputs": [
    {
     "data": {
      "text/plain": [
       "2×2 Matrix{Float64}:\n",
       "  0.00383693  -0.00328434\n",
       " -0.00328434   0.0042819"
      ]
     },
     "execution_count": 31,
     "metadata": {},
     "output_type": "execute_result"
    }
   ],
   "source": [
    "# Turn the Hessian into more of a covariance Matrix\n",
    "w, v = eigen(inv_hess)\n",
    "hess_cov = v * (diagm(abs.(w)) * v')\n",
    "hess_cov = tril(hess_cov) + triu(hess_cov', 1)\n",
    "hess_cov = Hermitian(hess_cov)\n",
    "hess_cov = convert(Matrix{Float64}, hess_cov)"
   ]
  },
  {
   "cell_type": "markdown",
   "id": "10dfa4cc",
   "metadata": {},
   "source": [
    "## Sampling"
   ]
  },
  {
   "cell_type": "code",
   "execution_count": 32,
   "id": "a79c2b35",
   "metadata": {},
   "outputs": [
    {
     "data": {
      "text/plain": [
       "Sampler{Turing.Inference.NUTS{Turing.Essential.ForwardDiffAD{0}, (), DiagEuclideanMetric}}(Turing.Inference.NUTS{Turing.Essential.ForwardDiffAD{0}, (), DiagEuclideanMetric}(1000, 0.65, 10, 1000.0, 0.0), DynamicPPL.Selector(0x00001d20571d49c4, :default, false))"
      ]
     },
     "execution_count": 32,
     "metadata": {},
     "output_type": "execute_result"
    }
   ],
   "source": [
    "spl = Sampler(alg, stat_model)"
   ]
  },
  {
   "cell_type": "code",
   "execution_count": 33,
   "id": "087b18a8",
   "metadata": {},
   "outputs": [
    {
     "data": {
      "text/plain": [
       "TypedVarInfo{NamedTuple{(:Ωm, :σ8), Tuple{DynamicPPL.Metadata{Dict{VarName{:Ωm, Setfield.IdentityLens}, Int64}, Vector{Uniform{Float64}}, Vector{VarName{:Ωm, Setfield.IdentityLens}}, Vector{Float64}, Vector{Set{DynamicPPL.Selector}}}, DynamicPPL.Metadata{Dict{VarName{:σ8, Setfield.IdentityLens}, Int64}, Vector{Uniform{Float64}}, Vector{VarName{:σ8, Setfield.IdentityLens}}, Vector{Float64}, Vector{Set{DynamicPPL.Selector}}}}}, Float64}((Ωm = DynamicPPL.Metadata{Dict{VarName{:Ωm, Setfield.IdentityLens}, Int64}, Vector{Uniform{Float64}}, Vector{VarName{:Ωm, Setfield.IdentityLens}}, Vector{Float64}, Vector{Set{DynamicPPL.Selector}}}(Dict(Ωm => 1), [Ωm], UnitRange{Int64}[1:1], [0.6505567843405766], Uniform{Float64}[Uniform{Float64}(a=0.1, b=0.9)], Set{DynamicPPL.Selector}[Set()], [0], Dict{String, BitVector}(\"del\" => [0], \"trans\" => [0])), σ8 = DynamicPPL.Metadata{Dict{VarName{:σ8, Setfield.IdentityLens}, Int64}, Vector{Uniform{Float64}}, Vector{VarName{:σ8, Setfield.IdentityLens}}, Vector{Float64}, Vector{Set{DynamicPPL.Selector}}}(Dict(σ8 => 1), [σ8], UnitRange{Int64}[1:1], [0.9620967293029464], Uniform{Float64}[Uniform{Float64}(a=0.4, b=1.2)], Set{DynamicPPL.Selector}[Set()], [0], Dict{String, BitVector}(\"del\" => [0], \"trans\" => [0]))), Base.RefValue{Float64}(-19.435195736119102), Base.RefValue{Int64}(1))"
      ]
     },
     "execution_count": 33,
     "metadata": {},
     "output_type": "execute_result"
    }
   ],
   "source": [
    "context = stat_model.context\n",
    "varinfo = DynamicPPL.VarInfo(stat_model, context)"
   ]
  },
  {
   "cell_type": "code",
   "execution_count": 34,
   "id": "82938e27",
   "metadata": {},
   "outputs": [
    {
     "data": {
      "text/plain": [
       "Hamiltonian(metric=DenseEuclideanMetric(diag=[0.003836928914312876, 0.00 ...]), kinetic=GaussianKinetic())"
      ]
     },
     "execution_count": 34,
     "metadata": {},
     "output_type": "execute_result"
    }
   ],
   "source": [
    "ℓ = LogDensityProblemsAD.ADgradient(Turing.LogDensityFunction(varinfo, stat_model, spl, context))\n",
    "lπ = Base.Fix1(LogDensityProblems.logdensity, ℓ)\n",
    "∂lπ∂θ(x) = LogDensityProblems.logdensity_and_gradient(ℓ, x)\n",
    "metric = DenseEuclideanMetric(hess_cov)\n",
    "hamiltonian = AdvancedHMC.Hamiltonian(metric, lπ, ∂lπ∂θ)"
   ]
  },
  {
   "cell_type": "code",
   "execution_count": 35,
   "id": "9a554c93",
   "metadata": {},
   "outputs": [
    {
     "name": "stderr",
     "output_type": "stream",
     "text": [
      "\u001b[33m\u001b[1m┌ \u001b[22m\u001b[39m\u001b[33m\u001b[1mWarning: \u001b[22m\u001b[39mProgressMeter by default refresh meters with additional information in IJulia via `IJulia.clear_output`, which clears all outputs in the cell. \n",
      "\u001b[33m\u001b[1m│ \u001b[22m\u001b[39m - To prevent this behaviour, do `ProgressMeter.ijulia_behavior(:append)`. \n",
      "\u001b[33m\u001b[1m│ \u001b[22m\u001b[39m - To disable this warning message, do `ProgressMeter.ijulia_behavior(:clear)`.\n",
      "\u001b[33m\u001b[1m└ \u001b[22m\u001b[39m\u001b[90m@ ProgressMeter ~/.julia/packages/ProgressMeter/sN2xr/src/ProgressMeter.jl:618\u001b[39m\n",
      "\u001b[32mSampling 100%|███████████████████████████████| Time: 0:00:02\u001b[39m\n",
      "\u001b[34m  iterations:                    2000\u001b[39m\n",
      "\u001b[34m  n_steps:                       7\u001b[39m\n",
      "\u001b[34m  is_accept:                     true\u001b[39m\n",
      "\u001b[34m  acceptance_rate:               0.9946861182443791\u001b[39m\n",
      "\u001b[34m  log_density:                   17.695260111739923\u001b[39m\n",
      "\u001b[34m  hamiltonian_energy:            -17.57393111351518\u001b[39m\n",
      "\u001b[34m  hamiltonian_energy_error:      0.014723390967052552\u001b[39m\n",
      "\u001b[34m  max_hamiltonian_energy_error:  -0.02798982109300141\u001b[39m\n",
      "\u001b[34m  tree_depth:                    2\u001b[39m\n",
      "\u001b[34m  numerical_error:               false\u001b[39m\n",
      "\u001b[34m  step_size:                     0.6081230077510454\u001b[39m\n",
      "\u001b[34m  nom_step_size:                 0.6081230077510454\u001b[39m\n",
      "\u001b[34m  is_adapt:                      false\u001b[39m\n",
      "\u001b[34m  mass_matrix:                   DenseEuclideanMetric(diag=[0.004174745988809073, 0.00 ...])\u001b[39m\n",
      "\u001b[36m\u001b[1m┌ \u001b[22m\u001b[39m\u001b[36m\u001b[1mInfo: \u001b[22m\u001b[39mFinished 2000 sampling steps for 1 chains in 2.185009648 (s)\n",
      "\u001b[36m\u001b[1m│ \u001b[22m\u001b[39m  h = Hamiltonian(metric=DenseEuclideanMetric(diag=[0.004174745988809073, 0.00 ...]), kinetic=GaussianKinetic())\n",
      "\u001b[36m\u001b[1m│ \u001b[22m\u001b[39m  κ = HMCKernel{AdvancedHMC.FullMomentumRefreshment, Trajectory{MultinomialTS, Leapfrog{Float64}, GeneralisedNoUTurn{Float64}}}(AdvancedHMC.FullMomentumRefreshment(), Trajectory{MultinomialTS}(integrator=Leapfrog(ϵ=0.608), tc=GeneralisedNoUTurn{Float64}(10, 1000.0)))\n",
      "\u001b[36m\u001b[1m│ \u001b[22m\u001b[39m  EBFMI_est = 0.9160598655429031\n",
      "\u001b[36m\u001b[1m└ \u001b[22m\u001b[39m  average_acceptance_rate = 0.8496646821150462\n"
     ]
    },
    {
     "data": {
      "text/plain": [
       "([[0.16452602386560072, 0.9989215548270688], [0.16452602386560072, 0.9989215548270688], [0.17674323715611664, 0.9515348528104061], [0.2247391096591545, 0.8789814364151827], [0.14448309584782518, 0.9201964904459435], [0.30427962815687665, 0.8355152852051013], [0.2075341095270809, 0.893280530833619], [0.19784512711442903, 0.8107968385018037], [0.1925283302346979, 0.8357651450109976], [0.18514610315138888, 0.8449561797049524]  …  [0.15513136112491316, 0.8780809873162494], [0.17964025687617322, 0.8116667354801272], [0.2828081227160771, 0.8015460360182374], [0.24249719395327057, 0.8237624148843863], [0.19955632703744702, 0.9337676589043549], [0.1875377022243625, 0.9079977751362024], [0.15181641730439915, 0.9611919240578262], [0.23594166944110315, 0.8698285743950552], [0.1814879449357587, 0.8905927309043213], [0.17247187371723446, 0.906431941393645]], NamedTuple[(n_steps = 3, is_accept = true, acceptance_rate = 0.11687792200616975, log_density = 15.991595595677383, hamiltonian_energy = -15.744200582799667, hamiltonian_energy_error = 1.2547077518755536, max_hamiltonian_energy_error = Inf, tree_depth = 1, numerical_error = true, step_size = 1.6125, nom_step_size = 1.6125, is_adapt = true), (n_steps = 1, is_accept = true, acceptance_rate = 0.0, log_density = 15.991595595677383, hamiltonian_energy = -15.453388972054453, hamiltonian_energy_error = 0.0, max_hamiltonian_energy_error = Inf, tree_depth = 0, numerical_error = true, step_size = 4.656810263130423, nom_step_size = 4.656810263130423, is_adapt = true), (n_steps = 3, is_accept = true, acceptance_rate = 1.0, log_density = 17.281722494202228, hamiltonian_energy = -15.989850253843615, hamiltonian_energy_error = -0.061881105668891934, max_hamiltonian_energy_error = -0.061881105668891934, tree_depth = 2, numerical_error = false, step_size = 0.48900556970880854, nom_step_size = 0.48900556970880854, is_adapt = true), (n_steps = 7, is_accept = true, acceptance_rate = 0.9762051866150048, log_density = 17.90830167616246, hamiltonian_energy = -15.538528321086826, hamiltonian_energy_error = -0.08642777231485965, max_hamiltonian_energy_error = -0.10298852984170992, tree_depth = 2, numerical_error = false, step_size = 0.5279486453785085, nom_step_size = 0.5279486453785085, is_adapt = true), (n_steps = 7, is_accept = true, acceptance_rate = 0.9057476014744718, log_density = 16.789047021130475, hamiltonian_energy = -15.978359400124027, hamiltonian_energy_error = -0.21462872514495146, max_hamiltonian_energy_error = -0.21462872514495146, tree_depth = 2, numerical_error = false, step_size = 0.6823252511544703, nom_step_size = 0.6823252511544703, is_adapt = true), (n_steps = 3, is_accept = true, acceptance_rate = 0.9011759251593056, log_density = 17.072121310000988, hamiltonian_energy = -16.16426449591042, hamiltonian_energy_error = 0.20782408426251564, max_hamiltonian_energy_error = -0.41486292726566276, tree_depth = 2, numerical_error = false, step_size = 0.8150227465392776, nom_step_size = 0.8150227465392776, is_adapt = true), (n_steps = 3, is_accept = true, acceptance_rate = 0.34274996340180813, log_density = 17.92565542576375, hamiltonian_energy = -16.489419065476305, hamiltonian_energy_error = -0.23636947228670735, max_hamiltonian_energy_error = 11.72159098490718, tree_depth = 2, numerical_error = false, step_size = 1.0250231711008826, nom_step_size = 1.0250231711008826, is_adapt = true), (n_steps = 15, is_accept = true, acceptance_rate = 0.9772544592833922, log_density = 15.900158144015752, hamiltonian_energy = -15.182508460262566, hamiltonian_energy_error = 0.02832713678160026, max_hamiltonian_energy_error = 0.038877975161520695, tree_depth = 3, numerical_error = false, step_size = 0.23592273725568794, nom_step_size = 0.23592273725568794, is_adapt = true), (n_steps = 3, is_accept = true, acceptance_rate = 1.0, log_density = 16.786728807815063, hamiltonian_energy = -15.889376461951926, hamiltonian_energy_error = -0.031091640583834845, max_hamiltonian_energy_error = -0.031091640583834845, tree_depth = 2, numerical_error = false, step_size = 0.39535285233301615, nom_step_size = 0.39535285233301615, is_adapt = true), (n_steps = 3, is_accept = true, acceptance_rate = 0.9952177248518316, log_density = 16.81257631681275, hamiltonian_energy = -16.611262308483756, hamiltonian_energy_error = 0.014450736201741421, max_hamiltonian_energy_error = -0.12805003361686573, tree_depth = 2, numerical_error = false, step_size = 0.7302772228412913, nom_step_size = 0.7302772228412913, is_adapt = true)  …  (n_steps = 3, is_accept = true, acceptance_rate = 0.967400522642686, log_density = 16.322077624281942, hamiltonian_energy = -15.834274904909066, hamiltonian_energy_error = 0.10291731611525101, max_hamiltonian_energy_error = -0.23576572870129375, tree_depth = 2, numerical_error = false, step_size = 0.6081230077510454, nom_step_size = 0.6081230077510454, is_adapt = false), (n_steps = 3, is_accept = true, acceptance_rate = 0.9603441565349503, log_density = 14.860133666051153, hamiltonian_energy = -13.203967121394518, hamiltonian_energy_error = -0.0882436690909234, max_hamiltonian_energy_error = -0.0882436690909234, tree_depth = 2, numerical_error = false, step_size = 0.6081230077510454, nom_step_size = 0.6081230077510454, is_adapt = false), (n_steps = 3, is_accept = true, acceptance_rate = 0.9900750793843117, log_density = 17.229777451132467, hamiltonian_energy = -13.740923500959717, hamiltonian_energy_error = -0.25954654366362995, max_hamiltonian_energy_error = -0.25954654366362995, tree_depth = 2, numerical_error = false, step_size = 0.6081230077510454, nom_step_size = 0.6081230077510454, is_adapt = false), (n_steps = 7, is_accept = true, acceptance_rate = 0.9865203769761435, log_density = 17.569015517475368, hamiltonian_energy = -17.03565713775526, hamiltonian_energy_error = -0.03448613633398878, max_hamiltonian_energy_error = 0.07937974560772076, tree_depth = 2, numerical_error = false, step_size = 0.6081230077510454, nom_step_size = 0.6081230077510454, is_adapt = false), (n_steps = 7, is_accept = true, acceptance_rate = 0.9720499934153588, log_density = 17.26609044485332, hamiltonian_energy = -16.873260977866927, hamiltonian_energy_error = 0.019820398518994864, max_hamiltonian_energy_error = 0.08595420847818858, tree_depth = 3, numerical_error = false, step_size = 0.6081230077510454, nom_step_size = 0.6081230077510454, is_adapt = false), (n_steps = 7, is_accept = true, acceptance_rate = 0.9790071277377944, log_density = 17.86886458568472, hamiltonian_energy = -16.71858441804179, hamiltonian_energy_error = -0.06220971571018907, max_hamiltonian_energy_error = 0.07547387475395695, tree_depth = 2, numerical_error = false, step_size = 0.6081230077510454, nom_step_size = 0.6081230077510454, is_adapt = false), (n_steps = 3, is_accept = true, acceptance_rate = 0.9406995224116486, log_density = 17.229603351041384, hamiltonian_energy = -16.819408750557862, hamiltonian_energy_error = -0.11101580465753358, max_hamiltonian_energy_error = 0.15655340420750363, tree_depth = 2, numerical_error = false, step_size = 0.6081230077510454, nom_step_size = 0.6081230077510454, is_adapt = false), (n_steps = 7, is_accept = true, acceptance_rate = 0.9617575881588056, log_density = 17.866852160225253, hamiltonian_energy = -16.896989328092523, hamiltonian_energy_error = -0.0028025828991928847, max_hamiltonian_energy_error = 0.11234565320049228, tree_depth = 3, numerical_error = false, step_size = 0.6081230077510454, nom_step_size = 0.6081230077510454, is_adapt = false), (n_steps = 7, is_accept = true, acceptance_rate = 0.9952686024539684, log_density = 17.757171107529324, hamiltonian_energy = -17.595744168834532, hamiltonian_energy_error = 0.007075011974201573, max_hamiltonian_energy_error = -0.021660928026726367, tree_depth = 3, numerical_error = false, step_size = 0.6081230077510454, nom_step_size = 0.6081230077510454, is_adapt = false), (n_steps = 7, is_accept = true, acceptance_rate = 0.9946861182443791, log_density = 17.695260111739923, hamiltonian_energy = -17.57393111351518, hamiltonian_energy_error = 0.014723390967052552, max_hamiltonian_energy_error = -0.02798982109300141, tree_depth = 2, numerical_error = false, step_size = 0.6081230077510454, nom_step_size = 0.6081230077510454, is_adapt = false)])"
      ]
     },
     "execution_count": 35,
     "metadata": {},
     "output_type": "execute_result"
    }
   ],
   "source": [
    "# Set the number of samples to draw and warmup iterations\n",
    "n_samples, n_adapts = 2_000, 1_000\n",
    "initial_ϵ = find_good_stepsize(hamiltonian, MAP)\n",
    "integrator = Leapfrog(initial_ϵ)\n",
    "\n",
    "# Define an HMC sampler, with the following components\n",
    "#   - multinomial sampling scheme,\n",
    "#   - generalised No-U-Turn criteria, and\n",
    "#   - windowed adaption for step-size and diagonal mass matrix\n",
    "proposal = AdvancedHMC.NUTS{MultinomialTS, GeneralisedNoUTurn}(integrator)\n",
    "adaptor = StanHMCAdaptor(MassMatrixAdaptor(metric), StepSizeAdaptor(0.8, integrator))\n",
    "\n",
    "# Run the sampler to draw samples from the specified Gaussian, where\n",
    "#   - `samples` will store the samples\n",
    "#   - `stats` will store diagnostic statistics for each sample\n",
    "samples, stats = sample(hamiltonian, proposal, MAP, n_samples, adaptor, n_adapts; progress=true)"
   ]
  },
  {
   "cell_type": "code",
   "execution_count": null,
   "id": "ed71d871",
   "metadata": {},
   "outputs": [],
   "source": []
  }
 ],
 "metadata": {
  "kernelspec": {
   "display_name": "Julia 1.7.1",
   "language": "julia",
   "name": "julia-1.7"
  },
  "language_info": {
   "file_extension": ".jl",
   "mimetype": "application/julia",
   "name": "julia",
   "version": "1.7.1"
  }
 },
 "nbformat": 4,
 "nbformat_minor": 5
}
