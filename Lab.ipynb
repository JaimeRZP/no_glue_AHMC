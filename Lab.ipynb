{
 "cells": [
  {
   "cell_type": "markdown",
   "id": "91129cb1",
   "metadata": {},
   "source": [
    "# No-glue-code"
   ]
  },
  {
   "cell_type": "markdown",
   "id": "97121235",
   "metadata": {},
   "source": [
    "## Model"
   ]
  },
  {
   "cell_type": "code",
   "execution_count": 14,
   "id": "baed58e3",
   "metadata": {},
   "outputs": [],
   "source": [
    "# The statistical inference frame-work we will use\n",
    "using Turing\n",
    "using AdvancedHMC\n",
    "using LogDensityProblems\n",
    "using LogDensityProblemsAD\n",
    "using DynamicPPL\n",
    "using ForwardDiff\n",
    "# Some data management libs.\n",
    "using CSV\n",
    "using NPZ\n",
    "using YAML\n",
    "#Plotting\n",
    "using Plots\n",
    "# Some Lin. Alg.\n",
    "using LinearAlgebra\n",
    "using Interpolations\n",
    "# Allows us to use Python when needed\n",
    "using PyPlot"
   ]
  },
  {
   "cell_type": "code",
   "execution_count": 15,
   "id": "a7d6f81c",
   "metadata": {},
   "outputs": [],
   "source": [
    "fs8_zs = [0.38, 0.51, 0.61, 1.48, 0.44, 0.6, 0.73, 0.6, 0.86, 0.067, 1.4]\n",
    "fs8_data = [0.49749, 0.457523, 0.436148, 0.462, 0.413, 0.39, 0.437, 0.55, 0.4, 0.423, 0.482]\n",
    "fs8_cov = [0.00203355 0.000811829 0.000264615 0.0 0.0 0.0 0.0 0.0 0.0 0.0 0.0;\n",
    "           0.000811829 0.00142289 0.000662824 0.0 0.0 0.0 0.0 0.0 0.0 0.0 0.0; \n",
    "           0.000264615 0.000662824 0.00118576 0.0 0.0 0.0 0.0 0.0 0.0 0.0 0.0;\n",
    "           0.0 0.0 0.0 0.002025 0.0 0.0 0.0 0.0 0.0 0.0 0.0;\n",
    "           0.0 0.0 0.0 0.0 0.0064 0.00257 0.0 0.0 0.0 0.0 0.0;\n",
    "           0.0 0.0 0.0 0.0 0.00257 0.003969 0.00254 0.0 0.0 0.0 0.0;\n",
    "           0.0 0.0 0.0 0.0 0.0 0.00254 0.005184 0.0 0.0 0.0 0.0;\n",
    "           0.0 0.0 0.0 0.0 0.0 0.0 0.0 0.0144 0.0 0.0 0.0;\n",
    "           0.0 0.0 0.0 0.0 0.0 0.0 0.0 0.0 0.0121 0.0 0.0; \n",
    "           0.0 0.0 0.0 0.0 0.0 0.0 0.0 0.0 0.0 0.003025 0.0;\n",
    "           0.0 0.0 0.0 0.0 0.0 0.0 0.0 0.0 0.0 0.0 0.013456000000000001];"
   ]
  },
  {
   "cell_type": "code",
   "execution_count": 16,
   "id": "1359a630",
   "metadata": {
    "code_folding": []
   },
   "outputs": [
    {
     "data": {
      "text/plain": [
       "make_fs8 (generic function with 1 method)"
      ]
     },
     "execution_count": 16,
     "metadata": {},
     "output_type": "execute_result"
    }
   ],
   "source": [
    "function make_fs8(Ωm, σ8; Ωr=8.24*10^-5)\n",
    "    # ODE solution for growth factor\n",
    "    x_Dz = LinRange(0, log(1+1100), 300)\n",
    "    dx_Dz = x_Dz[2]-x_Dz[1]\n",
    "    z_Dz = @.(exp(x_Dz) - 1)\n",
    "    a_Dz = @.(1/(1+z_Dz))\n",
    "    aa = reverse(a_Dz)\n",
    "    e =  @.(sqrt.(abs(Ωm)*(1+z_Dz)^3+Ωr*(1+z_Dz)^4+(1-Ωm-Ωr)))\n",
    "    ee = reverse(e)\n",
    "\n",
    "    dd = zeros(typeof(Ωm), 300)\n",
    "    yy = zeros(typeof(Ωm), 300)\n",
    "    dd[1] = aa[1]\n",
    "    yy[1] = aa[1]^3*ee[end]\n",
    "\n",
    "    for i in 1:(300-1)\n",
    "        A0 = -1.5 * Ωm / (aa[i]*ee[i])\n",
    "        B0 = -1. / (aa[i]^2*ee[i])\n",
    "        A1 = -1.5 * Ωm / (aa[i+1]*ee[i+1])\n",
    "        B1 = -1. / (aa[i+1]^2*ee[i+1])\n",
    "        yy[i+1] = (1+0.5*dx_Dz^2*A0*B0)*yy[i] + 0.5*(A0+A1)*dx_Dz*dd[i]\n",
    "        dd[i+1] = 0.5*(B0+B1)*dx_Dz*yy[i] + (1+0.5*dx_Dz^2*A0*B0)*dd[i]\n",
    "    end\n",
    "\n",
    "    y = reverse(yy)\n",
    "    d = reverse(dd)\n",
    "\n",
    "    Dzi = linear_interpolation(z_Dz, d./d[1], extrapolation_bc=Line())\n",
    "    fs8zi = linear_interpolation(z_Dz, -σ8 .* y./ (a_Dz.^2 .*e.*d[1]),\n",
    "                                 extrapolation_bc=Line())\n",
    "    return fs8zi\n",
    "end"
   ]
  },
  {
   "cell_type": "code",
   "execution_count": 17,
   "id": "8005e277",
   "metadata": {},
   "outputs": [],
   "source": [
    "@model function model(data; cov = fs8_cov) \n",
    "    # Define priors\n",
    "    #KiDS priors\n",
    "    Ωm ~ Uniform(0.1, 0.9)\n",
    "    σ8 ~ Uniform(0.4, 1.2)\n",
    "    fs8_itp = make_fs8(Ωm, σ8)\n",
    "    theory = fs8_itp(fs8_zs)\n",
    "    data ~ MvNormal(theory, cov)\n",
    "end;"
   ]
  },
  {
   "cell_type": "code",
   "execution_count": 18,
   "id": "1eebe796",
   "metadata": {},
   "outputs": [
    {
     "data": {
      "text/plain": [
       "Model{typeof(model), (:data, :cov), (:cov,), (), Tuple{Vector{Float64}, Matrix{Float64}}, Tuple{Matrix{Float64}}, DefaultContext}(model, (data = [0.49749, 0.457523, 0.436148, 0.462, 0.413, 0.39, 0.437, 0.55, 0.4, 0.423, 0.482], cov = [0.00203355 0.000811829 … 0.0 0.0; 0.000811829 0.00142289 … 0.0 0.0; … ; 0.0 0.0 … 0.003025 0.0; 0.0 0.0 … 0.0 0.013456000000000001]), (cov = [0.00203355 0.000811829 … 0.0 0.0; 0.000811829 0.00142289 … 0.0 0.0; … ; 0.0 0.0 … 0.003025 0.0; 0.0 0.0 … 0.0 0.013456000000000001],), DefaultContext())"
      ]
     },
     "execution_count": 18,
     "metadata": {},
     "output_type": "execute_result"
    }
   ],
   "source": [
    "stat_model = model(fs8_data)"
   ]
  },
  {
   "cell_type": "code",
   "execution_count": 20,
   "id": "8c2a4317",
   "metadata": {},
   "outputs": [
    {
     "data": {
      "text/plain": [
       "Turing.Inference.NUTS{Turing.Essential.ForwardDiffAD{0}, (), DiagEuclideanMetric}(1000, 0.65, 10, 1000.0, 0.0)"
      ]
     },
     "execution_count": 20,
     "metadata": {},
     "output_type": "execute_result"
    }
   ],
   "source": [
    "adaptation = 1000\n",
    "TAP = 0.65\n",
    "alg = Turing.NUTS(adaptation, TAP)"
   ]
  },
  {
   "cell_type": "markdown",
   "id": "e1cb8e03",
   "metadata": {},
   "source": [
    "## Getting MAP and Hessian"
   ]
  },
  {
   "cell_type": "code",
   "execution_count": 6,
   "id": "56874cd3",
   "metadata": {},
   "outputs": [
    {
     "data": {
      "text/plain": [
       "maximum_a_posteriori (generic function with 1 method)"
      ]
     },
     "execution_count": 6,
     "metadata": {},
     "output_type": "execute_result"
    }
   ],
   "source": [
    "using Optim\n",
    "\n",
    "function Xi2(params; model=stat_model)\n",
    "    Ωm, σ8 = params\n",
    "    return loglikelihood(model, (Ωm=Ωm, σ8=σ8))\n",
    "end;\n",
    "    \n",
    "function maximum_a_posteriori(model, lower_bound, upper_bound)\n",
    "    start_value = (upper_bound .+ lower_bound) ./ 2 \n",
    "    opt = optimize((v)->-Xi2(v), lower_bound, upper_bound, start_value, Fminbox())\n",
    "    return Optim.minimizer(opt)\n",
    "end"
   ]
  },
  {
   "cell_type": "code",
   "execution_count": 7,
   "id": "f48c433c",
   "metadata": {},
   "outputs": [
    {
     "data": {
      "text/plain": [
       "2-element Vector{Float64}:\n",
       " 0.21256856798079346\n",
       " 0.876354015459887"
      ]
     },
     "execution_count": 7,
     "metadata": {},
     "output_type": "execute_result"
    }
   ],
   "source": [
    "MAP = maximum_a_posteriori(stat_model, [0.2, 0.4], [0.6, 1.2])"
   ]
  },
  {
   "cell_type": "code",
   "execution_count": 8,
   "id": "01a11feb",
   "metadata": {},
   "outputs": [],
   "source": [
    "# Get the Hessian\n",
    "hess = ForwardDiff.hessian(Xi2, MAP)\n",
    "inv_hess = inv(hess);"
   ]
  },
  {
   "cell_type": "code",
   "execution_count": 9,
   "id": "9c6ca1e4",
   "metadata": {},
   "outputs": [
    {
     "data": {
      "text/plain": [
       "2×2 Matrix{Float64}:\n",
       "  0.00383693  -0.00328434\n",
       " -0.00328434   0.0042819"
      ]
     },
     "execution_count": 9,
     "metadata": {},
     "output_type": "execute_result"
    }
   ],
   "source": [
    "# Turn the Hessian into more of a covariance Matrix\n",
    "w, v = eigen(inv_hess)\n",
    "hess_cov = v * (diagm(abs.(w)) * v')\n",
    "hess_cov = tril(hess_cov) + triu(hess_cov', 1)\n",
    "hess_cov = Hermitian(hess_cov)\n",
    "hess_cov = convert(Matrix{Float64}, hess_cov)"
   ]
  },
  {
   "cell_type": "markdown",
   "id": "3c2f8f97",
   "metadata": {},
   "source": [
    "## Sampling"
   ]
  },
  {
   "cell_type": "code",
   "execution_count": 21,
   "id": "a79c2b35",
   "metadata": {},
   "outputs": [
    {
     "data": {
      "text/plain": [
       "Sampler{Turing.Inference.NUTS{Turing.Essential.ForwardDiffAD{0}, (), DiagEuclideanMetric}}(Turing.Inference.NUTS{Turing.Essential.ForwardDiffAD{0}, (), DiagEuclideanMetric}(1000, 0.65, 10, 1000.0, 0.0), DynamicPPL.Selector(0x00001d1c5ee6d21c, :default, false))"
      ]
     },
     "execution_count": 21,
     "metadata": {},
     "output_type": "execute_result"
    }
   ],
   "source": [
    "spl = Sampler(alg, stat_model)"
   ]
  },
  {
   "cell_type": "code",
   "execution_count": 11,
   "id": "087b18a8",
   "metadata": {},
   "outputs": [
    {
     "data": {
      "text/plain": [
       "TypedVarInfo{NamedTuple{(:Ωm, :σ8), Tuple{DynamicPPL.Metadata{Dict{VarName{:Ωm, Setfield.IdentityLens}, Int64}, Vector{Uniform{Float64}}, Vector{VarName{:Ωm, Setfield.IdentityLens}}, Vector{Float64}, Vector{Set{DynamicPPL.Selector}}}, DynamicPPL.Metadata{Dict{VarName{:σ8, Setfield.IdentityLens}, Int64}, Vector{Uniform{Float64}}, Vector{VarName{:σ8, Setfield.IdentityLens}}, Vector{Float64}, Vector{Set{DynamicPPL.Selector}}}}}, Float64}((Ωm = DynamicPPL.Metadata{Dict{VarName{:Ωm, Setfield.IdentityLens}, Int64}, Vector{Uniform{Float64}}, Vector{VarName{:Ωm, Setfield.IdentityLens}}, Vector{Float64}, Vector{Set{DynamicPPL.Selector}}}(Dict(Ωm => 1), [Ωm], UnitRange{Int64}[1:1], [0.17502917463410253], Uniform{Float64}[Uniform{Float64}(a=0.1, b=0.9)], Set{DynamicPPL.Selector}[Set()], [0], Dict{String, BitVector}(\"del\" => [0], \"trans\" => [0])), σ8 = DynamicPPL.Metadata{Dict{VarName{:σ8, Setfield.IdentityLens}, Int64}, Vector{Uniform{Float64}}, Vector{VarName{:σ8, Setfield.IdentityLens}}, Vector{Float64}, Vector{Set{DynamicPPL.Selector}}}(Dict(σ8 => 1), [σ8], UnitRange{Int64}[1:1], [0.4378033823298852], Uniform{Float64}[Uniform{Float64}(a=0.4, b=1.2)], Set{DynamicPPL.Selector}[Set()], [0], Dict{String, BitVector}(\"del\" => [0], \"trans\" => [0]))), Base.RefValue{Float64}(-52.99375585258844), Base.RefValue{Int64}(1))"
      ]
     },
     "execution_count": 11,
     "metadata": {},
     "output_type": "execute_result"
    }
   ],
   "source": [
    "context = stat_model.context\n",
    "varinfo = DynamicPPL.VarInfo(stat_model, context)"
   ]
  },
  {
   "cell_type": "code",
   "execution_count": 12,
   "id": "82938e27",
   "metadata": {},
   "outputs": [
    {
     "ename": "LoadError",
     "evalue": "MethodError: no method matching getADbackend(::typeof(sampler))\n\u001b[0mClosest candidates are:\n\u001b[0m  getADbackend(\u001b[91m::Sampler\u001b[39m) at ~/.julia/packages/Turing/UsWJl/src/essential/ad.jl:78\n\u001b[0m  getADbackend(\u001b[91m::Turing.Inference.Hamiltonian{AD}\u001b[39m) where AD at ~/.julia/packages/Turing/UsWJl/src/inference/Inference.jl:81\n\u001b[0m  getADbackend(\u001b[91m::SampleFromPrior\u001b[39m) at ~/.julia/packages/Turing/UsWJl/src/essential/ad.jl:79",
     "output_type": "error",
     "traceback": [
      "MethodError: no method matching getADbackend(::typeof(sampler))\n\u001b[0mClosest candidates are:\n\u001b[0m  getADbackend(\u001b[91m::Sampler\u001b[39m) at ~/.julia/packages/Turing/UsWJl/src/essential/ad.jl:78\n\u001b[0m  getADbackend(\u001b[91m::Turing.Inference.Hamiltonian{AD}\u001b[39m) where AD at ~/.julia/packages/Turing/UsWJl/src/inference/Inference.jl:81\n\u001b[0m  getADbackend(\u001b[91m::SampleFromPrior\u001b[39m) at ~/.julia/packages/Turing/UsWJl/src/essential/ad.jl:79",
      "",
      "Stacktrace:",
      " [1] getADbackend(spl::Sampler{typeof(sampler)})",
      "   @ Turing.Essential ~/.julia/packages/Turing/UsWJl/src/essential/ad.jl:78",
      " [2] ADgradient(ℓ::Turing.LogDensityFunction{TypedVarInfo{NamedTuple{(:Ωm, :σ8), Tuple{DynamicPPL.Metadata{Dict{VarName{:Ωm, Setfield.IdentityLens}, Int64}, Vector{Uniform{Float64}}, Vector{VarName{:Ωm, Setfield.IdentityLens}}, Vector{Float64}, Vector{Set{DynamicPPL.Selector}}}, DynamicPPL.Metadata{Dict{VarName{:σ8, Setfield.IdentityLens}, Int64}, Vector{Uniform{Float64}}, Vector{VarName{:σ8, Setfield.IdentityLens}}, Vector{Float64}, Vector{Set{DynamicPPL.Selector}}}}}, Float64}, Model{typeof(model), (:data, :cov), (:cov,), (), Tuple{Vector{Float64}, Matrix{Float64}}, Tuple{Matrix{Float64}}, DefaultContext}, Sampler{typeof(sampler)}, DefaultContext})",
      "   @ Turing.Essential ~/.julia/packages/Turing/UsWJl/src/essential/ad.jl:82",
      " [3] top-level scope",
      "   @ In[12]:1"
     ]
    }
   ],
   "source": [
    "ℓ = LogDensityProblemsAD.ADgradient(Turing.LogDensityFunction(varinfo, stat_model, spl, context))\n",
    "lπ = Base.Fix1(LogDensityProblems.logdensity, ℓ)\n",
    "∂lπ∂θ(x) = LogDensityProblems.logdensity_and_gradient(ℓ, x)\n",
    "metric = DenseEuclideanMetric(hess_cov)\n",
    "hamiltonian = AdvancedHMC.Hamiltonian(metric, lπ, ∂lπ∂θ)"
   ]
  },
  {
   "cell_type": "code",
   "execution_count": 13,
   "id": "9a554c93",
   "metadata": {},
   "outputs": [
    {
     "ename": "LoadError",
     "evalue": "UndefVarError: hamiltonian not defined",
     "output_type": "error",
     "traceback": [
      "UndefVarError: hamiltonian not defined",
      "",
      "Stacktrace:",
      " [1] top-level scope",
      "   @ In[13]:3"
     ]
    }
   ],
   "source": [
    "# Set the number of samples to draw and warmup iterations\n",
    "n_samples, n_adapts = 2_000, 1_000\n",
    "initial_ϵ = find_good_stepsize(hamiltonian, MAP)\n",
    "integrator = Leapfrog(initial_ϵ)\n",
    "\n",
    "# Define an HMC sampler, with the following components\n",
    "#   - multinomial sampling scheme,\n",
    "#   - generalised No-U-Turn criteria, and\n",
    "#   - windowed adaption for step-size and diagonal mass matrix\n",
    "proposal = AdvancedHMC.NUTS{MultinomialTS, GeneralisedNoUTurn}(integrator)\n",
    "adaptor = StanHMCAdaptor(MassMatrixAdaptor(metric), StepSizeAdaptor(0.8, integrator))\n",
    "\n",
    "# Run the sampler to draw samples from the specified Gaussian, where\n",
    "#   - `samples` will store the samples\n",
    "#   - `stats` will store diagnostic statistics for each sample\n",
    "samples, stats = sample(hamiltonian, proposal, MAP, n_samples, adaptor, n_adapts; progress=true)"
   ]
  },
  {
   "cell_type": "code",
   "execution_count": null,
   "id": "ed71d871",
   "metadata": {},
   "outputs": [],
   "source": []
  }
 ],
 "metadata": {
  "kernelspec": {
   "display_name": "Julia 1.7.1",
   "language": "julia",
   "name": "julia-1.7"
  },
  "language_info": {
   "file_extension": ".jl",
   "mimetype": "application/julia",
   "name": "julia",
   "version": "1.7.1"
  }
 },
 "nbformat": 4,
 "nbformat_minor": 5
}
