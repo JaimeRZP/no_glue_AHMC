{
 "cells": [
  {
   "cell_type": "markdown",
   "id": "91129cb1",
   "metadata": {},
   "source": [
    "# LimberJack.jl Tutorial"
   ]
  },
  {
   "cell_type": "markdown",
   "id": "1b3a2d09",
   "metadata": {},
   "source": [
    "## Usage"
   ]
  },
  {
   "cell_type": "code",
   "execution_count": 1,
   "id": "baed58e3",
   "metadata": {},
   "outputs": [
    {
     "data": {
      "text/plain": [
       "\u001b[0m\u001b[1mPython module: \u001b[22m<module 'sacc' from '/home/jaimerz/.julia/environments/v1.7/.CondaPkg/env/lib/python3.10/site-packages/sacc/__init__.py'>"
      ]
     },
     "execution_count": 1,
     "metadata": {},
     "output_type": "execute_result"
    }
   ],
   "source": [
    "# The statistical inference frame-work we will use\n",
    "using Turing\n",
    "using AdvancedHMC\n",
    "using LogDensityProblems\n",
    "using LogDensityProblemsAD\n",
    "using DynamicPPL\n",
    "using ForwardDiff\n",
    "# Our code\n",
    "using LimberJack\n",
    "# Some data management libs.\n",
    "using CSV\n",
    "using NPZ\n",
    "using YAML\n",
    "#Plotting\n",
    "using Plots\n",
    "# Some Lin. Alg.\n",
    "using LinearAlgebra\n",
    "# Allows us to use Python when needed\n",
    "using PythonCall\n",
    "sacc = pyimport(\"sacc\")"
   ]
  },
  {
   "cell_type": "markdown",
   "id": "8aa21947",
   "metadata": {},
   "source": [
    "### Load data"
   ]
  },
  {
   "cell_type": "markdown",
   "id": "0f897b25",
   "metadata": {},
   "source": [
    "The purpose of this notebook is show the user how to interface ```LimberJack.jl``` with ```Turing.jl``` to perform statistical inference.\n",
    "The first hurdle is converting our data into a format that ```LimberJack.jl``` can parse. \n",
    "The main obstacle is the lack of a ```Julia``` implementation of ```sacc.py``` (```yaml.jl``` exists!).\n",
    "Thankfully we can call ```sacc.py``` from ```Julia```. \n",
    "This allows us to load both the relevant ```.yml``` and ```.fits``` files.\n",
    "These files can then me passed to  ```LimberJack.jl ```'s  ```make_data ``` function to generate the  ```meta ``` structure and the  ```files ``` dictionary composed respectively of:\n",
    "\n",
    "    + ```meta```\n",
    "        + ```tracers```: a list of all tracers \n",
    "        + ```pairs```: a list of all pairs of tracers for the $C_l$'s\n",
    "        + ```cls```: the concatenated flat data vector\n",
    "        + ```idx```: indecies of the data vector corresponding to the first $l$ of each $C_l$ such that ```cli = cls[idx[i]:idx[i+1]]```\n",
    "        + ```cov```: covariance matrix of the data vector\n",
    "        + ```inv_cov```: inverse of the former\n",
    "    + ```files.npz```\n",
    "        + ```ls_tracer_tracer```: an array containing the $l$'s for the tracer pair\n",
    "        + ```nz_tracer```: the redshift distribution of galaxies of a given tracer as ```[z, dndz]```. \n"
   ]
  },
  {
   "cell_type": "code",
   "execution_count": 2,
   "id": "c50e41a5",
   "metadata": {},
   "outputs": [
    {
     "name": "stdout",
     "output_type": "stream",
     "text": [
      "DESgc__0 DESgc__0 5\n",
      "DESgc__1 DESgc__1 8\n",
      "DESgc__2 DESgc__2 10\n",
      "DESgc__3 DESgc__3 11\n",
      "DESgc__4 DESgc__4 13\n",
      "DESgc__0 DESwl__0 5\n",
      "DESgc__0 DESwl__1 5\n",
      "DESgc__0 DESwl__2 5\n",
      "DESgc__0 DESwl__3 5\n",
      "DESgc__1 DESwl__0 8\n",
      "DESgc__1 DESwl__1 8\n",
      "DESgc__1 DESwl__2 8\n",
      "DESgc__1 DESwl__3 8\n",
      "DESgc__2 DESwl__0 10\n",
      "DESgc__2 DESwl__1 10\n",
      "DESgc__2 DESwl__2 10\n",
      "DESgc__2 DESwl__3 10\n",
      "DESgc__3 DESwl__0 11\n",
      "DESgc__3 DESwl__1 11\n",
      "DESgc__3 DESwl__2 11\n",
      "DESgc__3 DESwl__3 11\n",
      "DESgc__4 DESwl__0 13\n",
      "DESgc__4 DESwl__1 13\n",
      "DESgc__4 DESwl__2 13\n",
      "DESgc__4 DESwl__3 13\n",
      "DESwl__0 DESwl__0 24\n",
      "DESwl__0 DESwl__1 24\n",
      "DESwl__0 DESwl__2 24\n",
      "DESwl__0 DESwl__3 24\n",
      "DESwl__1 DESwl__1 24\n",
      "DESwl__1 DESwl__2 24\n",
      "DESwl__1 DESwl__3 24\n",
      "DESwl__2 DESwl__2 24\n",
      "DESwl__2 DESwl__3 24\n",
      "DESwl__3 DESwl__3 24\n"
     ]
    }
   ],
   "source": [
    "sacc_path = \"/home/jaimerz/PhD/LimberJack.jl/data/FD/cls_FD_covG.fits\"\n",
    "yaml_path = \"/home/jaimerz/PhD/LimberJack.jl/data/DESY1/gcgc_gcwl_wlwl.yml\"\n",
    "sacc_file = sacc.Sacc().load_fits(sacc_path)\n",
    "yaml_file = YAML.load_file(yaml_path)\n",
    "meta, files = make_data(sacc_file, yaml_file)\n",
    "\n",
    "data_vector = meta.data\n",
    "cov_tot = meta.cov;"
   ]
  },
  {
   "cell_type": "markdown",
   "id": "0b136f82",
   "metadata": {},
   "source": [
    "### Defining the model"
   ]
  },
  {
   "cell_type": "markdown",
   "id": "476f4cf1",
   "metadata": {},
   "source": [
    "Now it is time to create the ```Turin.jl``` model. This is done through a function using the ```@model``` decorator.\n",
    "The important detail here is that the model can only be a function of the data (upon which we will condition the model to obtain constraints). The model function must accomplish the following:\n",
    "1. Define the priors for the parameters. This is done using the syntax of ```Distributions.jl``` for statistical programming. Note that the nuisance parameters must follow a strict naming convention in terms of the tracer they belong to. Otherwise, they will not be recognized. Also in order to pass the nuisance parameters our machinary they must be written as a dictionary. \n",
    "2. Initiate an instance of ```cosmo = LimberJack.Cosmology``` which will generate the matter power spectrum for the sampled cosmological parameters upon initializing. \n",
    "3. Evaluate ```LimberJack.Theory(cosmo, tracers, pairs, idx, files; Nuisances=nuisances)``` which for a given instance of  ```LimberJack.Cosmology``` it will return the concatenated $C_l$'s vector for the considered tracers, tracers' pairs, their indeces in the data vector and their auxialiry files  ($l$'s and $n(z)$'s)."
   ]
  },
  {
   "cell_type": "code",
   "execution_count": 3,
   "id": "8005e277",
   "metadata": {},
   "outputs": [],
   "source": [
    "@model function model(data; #data dependence!!!\n",
    "                      files=files,\n",
    "                      meta=meta,\n",
    "                      cov=cov_tot) \n",
    "    # Define priors\n",
    "    #KiDS priors\n",
    "    Ωm ~ Uniform(0.2, 0.6)\n",
    "    Ωb ~ Uniform(0.028, 0.065)\n",
    "    h ~ TruncatedNormal(72, 5, 0.64, 0.82)\n",
    "    s8 ~ Uniform(0.4, 1.2)\n",
    "    ns ~ Uniform(0.84, 1.1)\n",
    "\n",
    "    DESgc__0_b ~ Uniform(0.8, 3.0)\n",
    "    DESgc__1_b ~ Uniform(0.8, 3.0)\n",
    "    DESgc__2_b ~ Uniform(0.8, 3.0)\n",
    "    DESgc__3_b ~ Uniform(0.8, 3.0)\n",
    "    DESgc__4_b ~ Uniform(0.8, 3.0)\n",
    "    DESgc__0_dz ~ TruncatedNormal(0.0, 0.007, -0.2, 0.2)\n",
    "    DESgc__1_dz ~ TruncatedNormal(0.0, 0.007, -0.2, 0.2)\n",
    "    DESgc__2_dz ~ TruncatedNormal(0.0, 0.006, -0.2, 0.2)\n",
    "    DESgc__3_dz ~ TruncatedNormal(0.0, 0.01, -0.2, 0.2)\n",
    "    DESgc__4_dz ~ TruncatedNormal(0.0, 0.01, -0.2, 0.2)\n",
    "    DESwl__0_dz ~ TruncatedNormal(-0.001, 0.016, -0.2, 0.2)\n",
    "    DESwl__1_dz ~ TruncatedNormal(-0.019, 0.013, -0.2, 0.2)\n",
    "    DESwl__2_dz ~ TruncatedNormal(0.009, 0.011, -0.2, 0.2)\n",
    "    DESwl__3_dz ~ TruncatedNormal(-0.018, 0.022, -0.2, 0.2)\n",
    "    DESwl__0_m ~ Normal(0.012, 0.023)\n",
    "    DESwl__1_m ~ Normal(0.012, 0.023)\n",
    "    DESwl__2_m ~ Normal(0.012, 0.023)\n",
    "    DESwl__3_m ~ Normal(0.012, 0.023)\n",
    "    A_IA ~ Uniform(-5, 5) \n",
    "    alpha_IA ~ Uniform(-5, 5)\n",
    "\n",
    "    nuisances = Dict(\"DESgc__0_b\" => DESgc__0_b,\n",
    "                     \"DESgc__1_b\" => DESgc__1_b,\n",
    "                     \"DESgc__2_b\" => DESgc__2_b,\n",
    "                     \"DESgc__3_b\" => DESgc__3_b,\n",
    "                     \"DESgc__4_b\" => DESgc__4_b,\n",
    "                     \"DESgc__0_dz\" => DESgc__0_dz,\n",
    "                     \"DESgc__1_dz\" => DESgc__1_dz,\n",
    "                     \"DESgc__2_dz\" => DESgc__2_dz,\n",
    "                     \"DESgc__3_dz\" => DESgc__3_dz,\n",
    "                     \"DESgc__4_dz\" => DESgc__4_dz,\n",
    "\n",
    "                     \"A_IA\" => A_IA,\n",
    "                     \"alpha_IA\" => alpha_IA,\n",
    "\n",
    "                     \"DESwl__0_dz\" => DESwl__0_dz,\n",
    "                     \"DESwl__1_dz\" => DESwl__1_dz,\n",
    "                     \"DESwl__2_dz\" => DESwl__2_dz,\n",
    "                     \"DESwl__3_dz\" => DESwl__3_dz,\n",
    "                     \"DESwl__0_m\" => DESwl__0_m,\n",
    "                     \"DESwl__1_m\" => DESwl__1_m,\n",
    "                     \"DESwl__2_m\" => DESwl__2_m,\n",
    "                     \"DESwl__3_m\" => DESwl__3_m)\n",
    "\n",
    "    cosmology = Cosmology(Ωm, Ωb, h, ns, s8,\n",
    "                          tk_mode=\"EisHu\",\n",
    "                          Pk_mode=\"Halofit\")\n",
    "\n",
    "    theory = Theory(cosmology, meta, files; Nuisances=nuisances)\n",
    "    data ~ MvNormal(theory, cov)\n",
    "end;"
   ]
  },
  {
   "cell_type": "markdown",
   "id": "47d2d002",
   "metadata": {},
   "source": [
    "Now it is time to condition the model on the data. This is simply done as:"
   ]
  },
  {
   "cell_type": "code",
   "execution_count": 4,
   "id": "8987ccf9",
   "metadata": {},
   "outputs": [
    {
     "data": {
      "text/plain": [
       "Turing.Inference.NUTS{Turing.Essential.ForwardDiffAD{0}, (), DiagEuclideanMetric}(1000, 0.65, 10, 1000.0, 0.0)"
      ]
     },
     "execution_count": 4,
     "metadata": {},
     "output_type": "execute_result"
    }
   ],
   "source": [
    "iterations = 250\n",
    "adaptation = 1000\n",
    "TAP = 0.65\n",
    "stat_model = model(data_vector)\n",
    "alg = Turing.NUTS(adaptation, TAP)"
   ]
  },
  {
   "cell_type": "code",
   "execution_count": 5,
   "id": "2b34dedc",
   "metadata": {},
   "outputs": [
    {
     "data": {
      "text/plain": [
       "maximum_a_posteriori (generic function with 1 method)"
      ]
     },
     "execution_count": 5,
     "metadata": {},
     "output_type": "execute_result"
    }
   ],
   "source": [
    "using Optim\n",
    "\n",
    "function Xi2(params; model=stat_model)\n",
    "    Ωm, Ωb, h, s8,  ns,\n",
    "    DESgc__0_b, DESgc__1_b, DESgc__2_b, DESgc__3_b, DESgc__4_b,\n",
    "    DESgc__0_dz, DESgc__1_dz, DESgc__2_dz, DESgc__3_dz, DESgc__4_dz,\n",
    "    DESwl__0_dz, DESwl__1_dz, DESwl__2_dz, DESwl__3_dz,\n",
    "    DESwl__0_m, DESwl__1_m, DESwl__2_m, DESwl__3_m,\n",
    "    A_IA, alpha_IA = params\n",
    "    return loglikelihood(model,\n",
    "                        (Ωm=Ωm, Ωb=Ωb, h=h, s8=s8, ns=ns,\n",
    "                         DESgc__0_b=DESgc__0_b, DESgc__1_b=DESgc__1_b, DESgc__2_b=DESgc__2_b, DESgc__3_b=DESgc__3_b, DESgc__4_b=DESgc__4_b,\n",
    "                         DESgc__0_dz=DESgc__0_dz, DESgc__1_dz=DESgc__1_dz, DESgc__2_dz=DESgc__2_dz, DESgc__3_dz=DESgc__3_dz, DESgc__4_dz=DESgc__4_dz,\n",
    "                         DESwl__0_dz=DESwl__0_dz, DESwl__1_dz=DESwl__1_dz, DESwl__2_dz=DESwl__2_dz, DESwl__3_dz=DESwl__3_dz,\n",
    "                         DESwl__0_m=DESwl__0_m, DESwl__1_m=DESwl__1_m, DESwl__2_m=DESwl__2_m, DESwl__3_m=DESwl__3_m,\n",
    "                         A_IA=A_IA, alpha_IA=alpha_IA))\n",
    "end;\n",
    "    \n",
    "function maximum_a_posteriori(model, lower_bound, upper_bound)\n",
    "    start_value = (upper_bound .+ lower_bound) ./ 2 \n",
    "    opt = optimize((v)->-Xi2(v), lower_bound, upper_bound, start_value, Fminbox())\n",
    "    return Optim.minimizer(opt)\n",
    "end"
   ]
  },
  {
   "cell_type": "code",
   "execution_count": 6,
   "id": "9625606a",
   "metadata": {},
   "outputs": [],
   "source": [
    "lowers = [0.2, 0.028, 0.64, 0.4, 0.84, \n",
    "          0.8, 0.8, 0.8, 0.8, 0.8, \n",
    "          -0.2, -0.2, -0.2, -0.2, -0.2,\n",
    "          -0.2, -0.2, -0.2, -0.2, -0.2, -0.2, -0.2, -0.2,\n",
    "          -5.0, -5.0]\n",
    "uppers = [0.6, 0.065, 0.82, 1.2, 1.1, \n",
    "          3.0, 3.0, 3.0, 3.0, 3.0, \n",
    "          0.2, 0.2, 0.2, 0.2, 0.2,\n",
    "          0.2, 0.2, 0.2, 0.2, 0.2, 0.2, 0.2, 0.2,\n",
    "          5.0, 5.0];"
   ]
  },
  {
   "cell_type": "code",
   "execution_count": 7,
   "id": "f48c433c",
   "metadata": {},
   "outputs": [],
   "source": [
    "#MAP = maximum_a_posteriori(stat_model, lowers, uppers)\n",
    "\n",
    "# MAP from a preivous run\n",
    "MAP = [ 2.89781002e-01,  4.77686400e-02,  7.38011259e-01,  7.98425957e-01,\n",
    "        9.69728709e-01,  1.49721568e+00,  1.81865817e+00,  1.79001308e+00,\n",
    "        2.18263403e+00,  2.24598151e+00, -3.46696435e-03, -3.77762873e-03,\n",
    "       -1.60856663e-03, -2.09706269e-03,  5.92820210e-04, -1.05679892e-02,\n",
    "        5.08483360e-03,  4.75152724e-03, -8.16263963e-04,  1.90524810e-02,\n",
    "        3.83250992e-03,  2.35920245e-02, -1.54272168e-03,  3.16431800e-01,\n",
    "       -2.64120253e-01]\n",
    "\n",
    "pars_names = [\"Ωm\", \"Ωb\", \"h\", \"s8\",  \"ns\",\n",
    "              \"DESgc__0_b\", \"DESgc__1_b\",\"DESgc__2_b\",\"DESgc__3_b\",\"DESgc__4_b\",\n",
    "              \"DESgc__0_dz\", \"DESgc__1_dz\", \"DESgc__2_dz\", \"DESgc__3_dz\", \"DESgc__4_dz\",\n",
    "              \"DESwl__0_dz\", \"DESwl__1_dz\", \"DESwl__2_dz\", \"DESwl__3_dz\",\n",
    "              \"DESwl__0_m\", \"DESwl__1_m\", \"DESwl__2_m\", \"DESwl__3_m\",\n",
    "              \"A_IA\", \"alpha_IA\",];"
   ]
  },
  {
   "cell_type": "code",
   "execution_count": 8,
   "id": "b1b48a21",
   "metadata": {},
   "outputs": [],
   "source": [
    "# Get the Hessian\n",
    "hess = ForwardDiff.hessian(Xi2, MAP)\n",
    "inv_hess = inv(hess);"
   ]
  },
  {
   "cell_type": "code",
   "execution_count": 9,
   "id": "9c6ca1e4",
   "metadata": {},
   "outputs": [
    {
     "data": {
      "text/plain": [
       "25×25 Matrix{Float64}:\n",
       "  0.00174914    0.000350097  -0.000612938  …  -0.0028114    -0.00302873\n",
       "  0.000350097   0.000298532   0.000347349      0.000466794  -0.0156898\n",
       " -0.000612938   0.000347349   0.0022484        0.00558196   -0.0643927\n",
       " -0.000469425   0.000353485   0.00195119       0.00700356   -0.127265\n",
       " -0.00240725    0.000819839   0.00385055       0.00988849   -0.0810492\n",
       "  0.00182176   -0.00427704   -0.0193218    …  -0.0462215     0.782665\n",
       "  0.000338195  -0.000452606  -0.00322188      -0.0145882     0.28996\n",
       "  9.78142e-6   -0.00140936   -0.00663414      -0.021336      0.395109\n",
       "  0.000267924  -0.00152566   -0.00761907      -0.0251625     0.454262\n",
       "  0.000351658   0.000142816  -0.000537036     -0.00887275    0.22432\n",
       " -0.000381022   0.00128569    0.0054013    …   0.0113454    -0.179698\n",
       " -4.8538e-6     4.58442e-5    0.000276293      0.00122037   -0.0136195\n",
       "  0.000212337   0.00130788    0.00510216       0.0121463    -0.175984\n",
       " -6.21897e-6    0.000755145   0.00312955       0.00749001   -0.103336\n",
       " -0.000101403  -0.000332339  -0.0013834       -0.00294773    0.0466691\n",
       " -9.25651e-6   -0.000585669  -0.00257058   …  -0.0102311     0.106867\n",
       " -0.000237079   0.00139415    0.00617508       0.0186472    -0.215097\n",
       " -3.87682e-5    0.00120183    0.00500465       0.0105109    -0.166137\n",
       " -0.000994291   0.000519376   0.00345143       0.00942982   -0.0907366\n",
       " -0.00414075   -0.00479266   -0.0149228       -0.0357065     0.6446\n",
       " -0.00477087    0.00200645    0.0147623    …   0.0559729    -0.39178\n",
       " -0.00383298    0.000169013   0.00531141       0.0119379    -0.0165701\n",
       " -0.00457797   -0.000867017   0.00195439       0.00581264    0.117713\n",
       " -0.0028114     0.000466794   0.00558196       0.0693934    -0.265242\n",
       " -0.00302873   -0.0156898    -0.0643927       -0.265242      6.22359"
      ]
     },
     "execution_count": 9,
     "metadata": {},
     "output_type": "execute_result"
    }
   ],
   "source": [
    "# Turn the Hessian into more of a covariance Matrix\n",
    "w, v = eigen(inv_hess)\n",
    "hess_cov = v * (diagm(abs.(w)) * v')\n",
    "hess_cov = tril(hess_cov) + triu(hess_cov', 1)\n",
    "hess_cov = Hermitian(hess_cov)\n",
    "hess_cov = convert(Matrix{Float64}, hess_cov)"
   ]
  },
  {
   "cell_type": "markdown",
   "id": "5029832e",
   "metadata": {},
   "source": [
    "### Sampling"
   ]
  },
  {
   "cell_type": "code",
   "execution_count": 10,
   "id": "c87a0d0e",
   "metadata": {},
   "outputs": [
    {
     "data": {
      "text/plain": [
       "Sampler{Turing.Inference.NUTS{Turing.Essential.ForwardDiffAD{0}, (), DiagEuclideanMetric}}(Turing.Inference.NUTS{Turing.Essential.ForwardDiffAD{0}, (), DiagEuclideanMetric}(1000, 0.65, 10, 1000.0, 0.0), DynamicPPL.Selector(0x00001d58304a19fa, :default, false))"
      ]
     },
     "execution_count": 10,
     "metadata": {},
     "output_type": "execute_result"
    }
   ],
   "source": [
    "spl = Sampler(alg, stat_model)"
   ]
  },
  {
   "cell_type": "code",
   "execution_count": 11,
   "id": "897bd6aa",
   "metadata": {},
   "outputs": [
    {
     "data": {
      "text/plain": [
       "TypedVarInfo{NamedTuple{(:Ωm, :Ωb, :h, :s8, :ns, :DESgc__0_b, :DESgc__1_b, :DESgc__2_b, :DESgc__3_b, :DESgc__4_b, :DESgc__0_dz, :DESgc__1_dz, :DESgc__2_dz, :DESgc__3_dz, :DESgc__4_dz, :DESwl__0_dz, :DESwl__1_dz, :DESwl__2_dz, :DESwl__3_dz, :DESwl__0_m, :DESwl__1_m, :DESwl__2_m, :DESwl__3_m, :A_IA, :alpha_IA), Tuple{DynamicPPL.Metadata{Dict{VarName{:Ωm, Setfield.IdentityLens}, Int64}, Vector{Uniform{Float64}}, Vector{VarName{:Ωm, Setfield.IdentityLens}}, Vector{Float64}, Vector{Set{DynamicPPL.Selector}}}, DynamicPPL.Metadata{Dict{VarName{:Ωb, Setfield.IdentityLens}, Int64}, Vector{Uniform{Float64}}, Vector{VarName{:Ωb, Setfield.IdentityLens}}, Vector{Float64}, Vector{Set{DynamicPPL.Selector}}}, DynamicPPL.Metadata{Dict{VarName{:h, Setfield.IdentityLens}, Int64}, Vector{Truncated{Normal{Float64}, Continuous, Float64}}, Vector{VarName{:h, Setfield.IdentityLens}}, Vector{Float64}, Vector{Set{DynamicPPL.Selector}}}, DynamicPPL.Metadata{Dict{VarName{:s8, Setfield.IdentityLens}, Int64}, Vector{Uniform{Float64}}, Vector{VarName{:s8, Setfield.IdentityLens}}, Vector{Float64}, Vector{Set{DynamicPPL.Selector}}}, DynamicPPL.Metadata{Dict{VarName{:ns, Setfield.IdentityLens}, Int64}, Vector{Uniform{Float64}}, Vector{VarName{:ns, Setfield.IdentityLens}}, Vector{Float64}, Vector{Set{DynamicPPL.Selector}}}, DynamicPPL.Metadata{Dict{VarName{:DESgc__0_b, Setfield.IdentityLens}, Int64}, Vector{Uniform{Float64}}, Vector{VarName{:DESgc__0_b, Setfield.IdentityLens}}, Vector{Float64}, Vector{Set{DynamicPPL.Selector}}}, DynamicPPL.Metadata{Dict{VarName{:DESgc__1_b, Setfield.IdentityLens}, Int64}, Vector{Uniform{Float64}}, Vector{VarName{:DESgc__1_b, Setfield.IdentityLens}}, Vector{Float64}, Vector{Set{DynamicPPL.Selector}}}, DynamicPPL.Metadata{Dict{VarName{:DESgc__2_b, Setfield.IdentityLens}, Int64}, Vector{Uniform{Float64}}, Vector{VarName{:DESgc__2_b, Setfield.IdentityLens}}, Vector{Float64}, Vector{Set{DynamicPPL.Selector}}}, DynamicPPL.Metadata{Dict{VarName{:DESgc__3_b, Setfield.IdentityLens}, Int64}, Vector{Uniform{Float64}}, Vector{VarName{:DESgc__3_b, Setfield.IdentityLens}}, Vector{Float64}, Vector{Set{DynamicPPL.Selector}}}, DynamicPPL.Metadata{Dict{VarName{:DESgc__4_b, Setfield.IdentityLens}, Int64}, Vector{Uniform{Float64}}, Vector{VarName{:DESgc__4_b, Setfield.IdentityLens}}, Vector{Float64}, Vector{Set{DynamicPPL.Selector}}}, DynamicPPL.Metadata{Dict{VarName{:DESgc__0_dz, Setfield.IdentityLens}, Int64}, Vector{Truncated{Normal{Float64}, Continuous, Float64}}, Vector{VarName{:DESgc__0_dz, Setfield.IdentityLens}}, Vector{Float64}, Vector{Set{DynamicPPL.Selector}}}, DynamicPPL.Metadata{Dict{VarName{:DESgc__1_dz, Setfield.IdentityLens}, Int64}, Vector{Truncated{Normal{Float64}, Continuous, Float64}}, Vector{VarName{:DESgc__1_dz, Setfield.IdentityLens}}, Vector{Float64}, Vector{Set{DynamicPPL.Selector}}}, DynamicPPL.Metadata{Dict{VarName{:DESgc__2_dz, Setfield.IdentityLens}, Int64}, Vector{Truncated{Normal{Float64}, Continuous, Float64}}, Vector{VarName{:DESgc__2_dz, Setfield.IdentityLens}}, Vector{Float64}, Vector{Set{DynamicPPL.Selector}}}, DynamicPPL.Metadata{Dict{VarName{:DESgc__3_dz, Setfield.IdentityLens}, Int64}, Vector{Truncated{Normal{Float64}, Continuous, Float64}}, Vector{VarName{:DESgc__3_dz, Setfield.IdentityLens}}, Vector{Float64}, Vector{Set{DynamicPPL.Selector}}}, DynamicPPL.Metadata{Dict{VarName{:DESgc__4_dz, Setfield.IdentityLens}, Int64}, Vector{Truncated{Normal{Float64}, Continuous, Float64}}, Vector{VarName{:DESgc__4_dz, Setfield.IdentityLens}}, Vector{Float64}, Vector{Set{DynamicPPL.Selector}}}, DynamicPPL.Metadata{Dict{VarName{:DESwl__0_dz, Setfield.IdentityLens}, Int64}, Vector{Truncated{Normal{Float64}, Continuous, Float64}}, Vector{VarName{:DESwl__0_dz, Setfield.IdentityLens}}, Vector{Float64}, Vector{Set{DynamicPPL.Selector}}}, DynamicPPL.Metadata{Dict{VarName{:DESwl__1_dz, Setfield.IdentityLens}, Int64}, Vector{Truncated{Normal{Float64}, Continuous, Float64}}, Vector{VarName{:DESwl__1_dz, Setfield.IdentityLens}}, Vector{Float64}, Vector{Set{DynamicPPL.Selector}}}, DynamicPPL.Metadata{Dict{VarName{:DESwl__2_dz, Setfield.IdentityLens}, Int64}, Vector{Truncated{Normal{Float64}, Continuous, Float64}}, Vector{VarName{:DESwl__2_dz, Setfield.IdentityLens}}, Vector{Float64}, Vector{Set{DynamicPPL.Selector}}}, DynamicPPL.Metadata{Dict{VarName{:DESwl__3_dz, Setfield.IdentityLens}, Int64}, Vector{Truncated{Normal{Float64}, Continuous, Float64}}, Vector{VarName{:DESwl__3_dz, Setfield.IdentityLens}}, Vector{Float64}, Vector{Set{DynamicPPL.Selector}}}, DynamicPPL.Metadata{Dict{VarName{:DESwl__0_m, Setfield.IdentityLens}, Int64}, Vector{Normal{Float64}}, Vector{VarName{:DESwl__0_m, Setfield.IdentityLens}}, Vector{Float64}, Vector{Set{DynamicPPL.Selector}}}, DynamicPPL.Metadata{Dict{VarName{:DESwl__1_m, Setfield.IdentityLens}, Int64}, Vector{Normal{Float64}}, Vector{VarName{:DESwl__1_m, Setfield.IdentityLens}}, Vector{Float64}, Vector{Set{DynamicPPL.Selector}}}, DynamicPPL.Metadata{Dict{VarName{:DESwl__2_m, Setfield.IdentityLens}, Int64}, Vector{Normal{Float64}}, Vector{VarName{:DESwl__2_m, Setfield.IdentityLens}}, Vector{Float64}, Vector{Set{DynamicPPL.Selector}}}, DynamicPPL.Metadata{Dict{VarName{:DESwl__3_m, Setfield.IdentityLens}, Int64}, Vector{Normal{Float64}}, Vector{VarName{:DESwl__3_m, Setfield.IdentityLens}}, Vector{Float64}, Vector{Set{DynamicPPL.Selector}}}, DynamicPPL.Metadata{Dict{VarName{:A_IA, Setfield.IdentityLens}, Int64}, Vector{Uniform{Float64}}, Vector{VarName{:A_IA, Setfield.IdentityLens}}, Vector{Float64}, Vector{Set{DynamicPPL.Selector}}}, DynamicPPL.Metadata{Dict{VarName{:alpha_IA, Setfield.IdentityLens}, Int64}, Vector{Uniform{Float64}}, Vector{VarName{:alpha_IA, Setfield.IdentityLens}}, Vector{Float64}, Vector{Set{DynamicPPL.Selector}}}}}, Float64}((Ωm = DynamicPPL.Metadata{Dict{VarName{:Ωm, Setfield.IdentityLens}, Int64}, Vector{Uniform{Float64}}, Vector{VarName{:Ωm, Setfield.IdentityLens}}, Vector{Float64}, Vector{Set{DynamicPPL.Selector}}}(Dict(Ωm => 1), [Ωm], UnitRange{Int64}[1:1], [0.35227494585035524], Uniform{Float64}[Uniform{Float64}(a=0.2, b=0.6)], Set{DynamicPPL.Selector}[Set()], [0], Dict{String, BitVector}(\"del\" => [0], \"trans\" => [0])), Ωb = DynamicPPL.Metadata{Dict{VarName{:Ωb, Setfield.IdentityLens}, Int64}, Vector{Uniform{Float64}}, Vector{VarName{:Ωb, Setfield.IdentityLens}}, Vector{Float64}, Vector{Set{DynamicPPL.Selector}}}(Dict(Ωb => 1), [Ωb], UnitRange{Int64}[1:1], [0.05279226593516631], Uniform{Float64}[Uniform{Float64}(a=0.028, b=0.065)], Set{DynamicPPL.Selector}[Set()], [0], Dict{String, BitVector}(\"del\" => [0], \"trans\" => [0])), h = DynamicPPL.Metadata{Dict{VarName{:h, Setfield.IdentityLens}, Int64}, Vector{Truncated{Normal{Float64}, Continuous, Float64}}, Vector{VarName{:h, Setfield.IdentityLens}}, Vector{Float64}, Vector{Set{DynamicPPL.Selector}}}(Dict(h => 1), [h], UnitRange{Int64}[1:1], [0.6542464826915761], Truncated{Normal{Float64}, Continuous, Float64}[Truncated(Normal{Float64}(μ=72.0, σ=5.0); lower=0.64, upper=0.82)], Set{DynamicPPL.Selector}[Set()], [0], Dict{String, BitVector}(\"del\" => [0], \"trans\" => [0])), s8 = DynamicPPL.Metadata{Dict{VarName{:s8, Setfield.IdentityLens}, Int64}, Vector{Uniform{Float64}}, Vector{VarName{:s8, Setfield.IdentityLens}}, Vector{Float64}, Vector{Set{DynamicPPL.Selector}}}(Dict(s8 => 1), [s8], UnitRange{Int64}[1:1], [0.8770619866988074], Uniform{Float64}[Uniform{Float64}(a=0.4, b=1.2)], Set{DynamicPPL.Selector}[Set()], [0], Dict{String, BitVector}(\"del\" => [0], \"trans\" => [0])), ns = DynamicPPL.Metadata{Dict{VarName{:ns, Setfield.IdentityLens}, Int64}, Vector{Uniform{Float64}}, Vector{VarName{:ns, Setfield.IdentityLens}}, Vector{Float64}, Vector{Set{DynamicPPL.Selector}}}(Dict(ns => 1), [ns], UnitRange{Int64}[1:1], [0.9332895839497594], Uniform{Float64}[Uniform{Float64}(a=0.84, b=1.1)], Set{DynamicPPL.Selector}[Set()], [0], Dict{String, BitVector}(\"del\" => [0], \"trans\" => [0])), DESgc__0_b = DynamicPPL.Metadata{Dict{VarName{:DESgc__0_b, Setfield.IdentityLens}, Int64}, Vector{Uniform{Float64}}, Vector{VarName{:DESgc__0_b, Setfield.IdentityLens}}, Vector{Float64}, Vector{Set{DynamicPPL.Selector}}}(Dict(DESgc__0_b => 1), [DESgc__0_b], UnitRange{Int64}[1:1], [2.1414853917058245], Uniform{Float64}[Uniform{Float64}(a=0.8, b=3.0)], Set{DynamicPPL.Selector}[Set()], [0], Dict{String, BitVector}(\"del\" => [0], \"trans\" => [0])), DESgc__1_b = DynamicPPL.Metadata{Dict{VarName{:DESgc__1_b, Setfield.IdentityLens}, Int64}, Vector{Uniform{Float64}}, Vector{VarName{:DESgc__1_b, Setfield.IdentityLens}}, Vector{Float64}, Vector{Set{DynamicPPL.Selector}}}(Dict(DESgc__1_b => 1), [DESgc__1_b], UnitRange{Int64}[1:1], [0.8004158022182329], Uniform{Float64}[Uniform{Float64}(a=0.8, b=3.0)], Set{DynamicPPL.Selector}[Set()], [0], Dict{String, BitVector}(\"del\" => [0], \"trans\" => [0])), DESgc__2_b = DynamicPPL.Metadata{Dict{VarName{:DESgc__2_b, Setfield.IdentityLens}, Int64}, Vector{Uniform{Float64}}, Vector{VarName{:DESgc__2_b, Setfield.IdentityLens}}, Vector{Float64}, Vector{Set{DynamicPPL.Selector}}}(Dict(DESgc__2_b => 1), [DESgc__2_b], UnitRange{Int64}[1:1], [2.286804311501292], Uniform{Float64}[Uniform{Float64}(a=0.8, b=3.0)], Set{DynamicPPL.Selector}[Set()], [0], Dict{String, BitVector}(\"del\" => [0], \"trans\" => [0])), DESgc__3_b = DynamicPPL.Metadata{Dict{VarName{:DESgc__3_b, Setfield.IdentityLens}, Int64}, Vector{Uniform{Float64}}, Vector{VarName{:DESgc__3_b, Setfield.IdentityLens}}, Vector{Float64}, Vector{Set{DynamicPPL.Selector}}}(Dict(DESgc__3_b => 1), [DESgc__3_b], UnitRange{Int64}[1:1], [0.846036723036813], Uniform{Float64}[Uniform{Float64}(a=0.8, b=3.0)], Set{DynamicPPL.Selector}[Set()], [0], Dict{String, BitVector}(\"del\" => [0], \"trans\" => [0])), DESgc__4_b = DynamicPPL.Metadata{Dict{VarName{:DESgc__4_b, Setfield.IdentityLens}, Int64}, Vector{Uniform{Float64}}, Vector{VarName{:DESgc__4_b, Setfield.IdentityLens}}, Vector{Float64}, Vector{Set{DynamicPPL.Selector}}}(Dict(DESgc__4_b => 1), [DESgc__4_b], UnitRange{Int64}[1:1], [2.988047989088166], Uniform{Float64}[Uniform{Float64}(a=0.8, b=3.0)], Set{DynamicPPL.Selector}[Set()], [0], Dict{String, BitVector}(\"del\" => [0], \"trans\" => [0])), DESgc__0_dz = DynamicPPL.Metadata{Dict{VarName{:DESgc__0_dz, Setfield.IdentityLens}, Int64}, Vector{Truncated{Normal{Float64}, Continuous, Float64}}, Vector{VarName{:DESgc__0_dz, Setfield.IdentityLens}}, Vector{Float64}, Vector{Set{DynamicPPL.Selector}}}(Dict(DESgc__0_dz => 1), [DESgc__0_dz], UnitRange{Int64}[1:1], [0.002283436630012313], Truncated{Normal{Float64}, Continuous, Float64}[Truncated(Normal{Float64}(μ=0.0, σ=0.007); lower=-0.2, upper=0.2)], Set{DynamicPPL.Selector}[Set()], [0], Dict{String, BitVector}(\"del\" => [0], \"trans\" => [0])), DESgc__1_dz = DynamicPPL.Metadata{Dict{VarName{:DESgc__1_dz, Setfield.IdentityLens}, Int64}, Vector{Truncated{Normal{Float64}, Continuous, Float64}}, Vector{VarName{:DESgc__1_dz, Setfield.IdentityLens}}, Vector{Float64}, Vector{Set{DynamicPPL.Selector}}}(Dict(DESgc__1_dz => 1), [DESgc__1_dz], UnitRange{Int64}[1:1], [0.006011992808648273], Truncated{Normal{Float64}, Continuous, Float64}[Truncated(Normal{Float64}(μ=0.0, σ=0.007); lower=-0.2, upper=0.2)], Set{DynamicPPL.Selector}[Set()], [0], Dict{String, BitVector}(\"del\" => [0], \"trans\" => [0])), DESgc__2_dz = DynamicPPL.Metadata{Dict{VarName{:DESgc__2_dz, Setfield.IdentityLens}, Int64}, Vector{Truncated{Normal{Float64}, Continuous, Float64}}, Vector{VarName{:DESgc__2_dz, Setfield.IdentityLens}}, Vector{Float64}, Vector{Set{DynamicPPL.Selector}}}(Dict(DESgc__2_dz => 1), [DESgc__2_dz], UnitRange{Int64}[1:1], [-0.0018695668593470094], Truncated{Normal{Float64}, Continuous, Float64}[Truncated(Normal{Float64}(μ=0.0, σ=0.006); lower=-0.2, upper=0.2)], Set{DynamicPPL.Selector}[Set()], [0], Dict{String, BitVector}(\"del\" => [0], \"trans\" => [0])), DESgc__3_dz = DynamicPPL.Metadata{Dict{VarName{:DESgc__3_dz, Setfield.IdentityLens}, Int64}, Vector{Truncated{Normal{Float64}, Continuous, Float64}}, Vector{VarName{:DESgc__3_dz, Setfield.IdentityLens}}, Vector{Float64}, Vector{Set{DynamicPPL.Selector}}}(Dict(DESgc__3_dz => 1), [DESgc__3_dz], UnitRange{Int64}[1:1], [0.00368379465201833], Truncated{Normal{Float64}, Continuous, Float64}[Truncated(Normal{Float64}(μ=0.0, σ=0.01); lower=-0.2, upper=0.2)], Set{DynamicPPL.Selector}[Set()], [0], Dict{String, BitVector}(\"del\" => [0], \"trans\" => [0])), DESgc__4_dz = DynamicPPL.Metadata{Dict{VarName{:DESgc__4_dz, Setfield.IdentityLens}, Int64}, Vector{Truncated{Normal{Float64}, Continuous, Float64}}, Vector{VarName{:DESgc__4_dz, Setfield.IdentityLens}}, Vector{Float64}, Vector{Set{DynamicPPL.Selector}}}(Dict(DESgc__4_dz => 1), [DESgc__4_dz], UnitRange{Int64}[1:1], [-0.00048819197145750614], Truncated{Normal{Float64}, Continuous, Float64}[Truncated(Normal{Float64}(μ=0.0, σ=0.01); lower=-0.2, upper=0.2)], Set{DynamicPPL.Selector}[Set()], [0], Dict{String, BitVector}(\"del\" => [0], \"trans\" => [0])), DESwl__0_dz = DynamicPPL.Metadata{Dict{VarName{:DESwl__0_dz, Setfield.IdentityLens}, Int64}, Vector{Truncated{Normal{Float64}, Continuous, Float64}}, Vector{VarName{:DESwl__0_dz, Setfield.IdentityLens}}, Vector{Float64}, Vector{Set{DynamicPPL.Selector}}}(Dict(DESwl__0_dz => 1), [DESwl__0_dz], UnitRange{Int64}[1:1], [-0.035008819854542426], Truncated{Normal{Float64}, Continuous, Float64}[Truncated(Normal{Float64}(μ=-0.001, σ=0.016); lower=-0.2, upper=0.2)], Set{DynamicPPL.Selector}[Set()], [0], Dict{String, BitVector}(\"del\" => [0], \"trans\" => [0])), DESwl__1_dz = DynamicPPL.Metadata{Dict{VarName{:DESwl__1_dz, Setfield.IdentityLens}, Int64}, Vector{Truncated{Normal{Float64}, Continuous, Float64}}, Vector{VarName{:DESwl__1_dz, Setfield.IdentityLens}}, Vector{Float64}, Vector{Set{DynamicPPL.Selector}}}(Dict(DESwl__1_dz => 1), [DESwl__1_dz], UnitRange{Int64}[1:1], [-0.013268646181733457], Truncated{Normal{Float64}, Continuous, Float64}[Truncated(Normal{Float64}(μ=-0.019, σ=0.013); lower=-0.2, upper=0.2)], Set{DynamicPPL.Selector}[Set()], [0], Dict{String, BitVector}(\"del\" => [0], \"trans\" => [0])), DESwl__2_dz = DynamicPPL.Metadata{Dict{VarName{:DESwl__2_dz, Setfield.IdentityLens}, Int64}, Vector{Truncated{Normal{Float64}, Continuous, Float64}}, Vector{VarName{:DESwl__2_dz, Setfield.IdentityLens}}, Vector{Float64}, Vector{Set{DynamicPPL.Selector}}}(Dict(DESwl__2_dz => 1), [DESwl__2_dz], UnitRange{Int64}[1:1], [0.028746406089707965], Truncated{Normal{Float64}, Continuous, Float64}[Truncated(Normal{Float64}(μ=0.009, σ=0.011); lower=-0.2, upper=0.2)], Set{DynamicPPL.Selector}[Set()], [0], Dict{String, BitVector}(\"del\" => [0], \"trans\" => [0])), DESwl__3_dz = DynamicPPL.Metadata{Dict{VarName{:DESwl__3_dz, Setfield.IdentityLens}, Int64}, Vector{Truncated{Normal{Float64}, Continuous, Float64}}, Vector{VarName{:DESwl__3_dz, Setfield.IdentityLens}}, Vector{Float64}, Vector{Set{DynamicPPL.Selector}}}(Dict(DESwl__3_dz => 1), [DESwl__3_dz], UnitRange{Int64}[1:1], [0.0170123886235657], Truncated{Normal{Float64}, Continuous, Float64}[Truncated(Normal{Float64}(μ=-0.018, σ=0.022); lower=-0.2, upper=0.2)], Set{DynamicPPL.Selector}[Set()], [0], Dict{String, BitVector}(\"del\" => [0], \"trans\" => [0])), DESwl__0_m = DynamicPPL.Metadata{Dict{VarName{:DESwl__0_m, Setfield.IdentityLens}, Int64}, Vector{Normal{Float64}}, Vector{VarName{:DESwl__0_m, Setfield.IdentityLens}}, Vector{Float64}, Vector{Set{DynamicPPL.Selector}}}(Dict(DESwl__0_m => 1), [DESwl__0_m], UnitRange{Int64}[1:1], [-0.020854498770669933], Normal{Float64}[Normal{Float64}(μ=0.012, σ=0.023)], Set{DynamicPPL.Selector}[Set()], [0], Dict{String, BitVector}(\"del\" => [0], \"trans\" => [0])), DESwl__1_m = DynamicPPL.Metadata{Dict{VarName{:DESwl__1_m, Setfield.IdentityLens}, Int64}, Vector{Normal{Float64}}, Vector{VarName{:DESwl__1_m, Setfield.IdentityLens}}, Vector{Float64}, Vector{Set{DynamicPPL.Selector}}}(Dict(DESwl__1_m => 1), [DESwl__1_m], UnitRange{Int64}[1:1], [0.03616425405654461], Normal{Float64}[Normal{Float64}(μ=0.012, σ=0.023)], Set{DynamicPPL.Selector}[Set()], [0], Dict{String, BitVector}(\"del\" => [0], \"trans\" => [0])), DESwl__2_m = DynamicPPL.Metadata{Dict{VarName{:DESwl__2_m, Setfield.IdentityLens}, Int64}, Vector{Normal{Float64}}, Vector{VarName{:DESwl__2_m, Setfield.IdentityLens}}, Vector{Float64}, Vector{Set{DynamicPPL.Selector}}}(Dict(DESwl__2_m => 1), [DESwl__2_m], UnitRange{Int64}[1:1], [0.03679990861818175], Normal{Float64}[Normal{Float64}(μ=0.012, σ=0.023)], Set{DynamicPPL.Selector}[Set()], [0], Dict{String, BitVector}(\"del\" => [0], \"trans\" => [0])), DESwl__3_m = DynamicPPL.Metadata{Dict{VarName{:DESwl__3_m, Setfield.IdentityLens}, Int64}, Vector{Normal{Float64}}, Vector{VarName{:DESwl__3_m, Setfield.IdentityLens}}, Vector{Float64}, Vector{Set{DynamicPPL.Selector}}}(Dict(DESwl__3_m => 1), [DESwl__3_m], UnitRange{Int64}[1:1], [0.005695219278034996], Normal{Float64}[Normal{Float64}(μ=0.012, σ=0.023)], Set{DynamicPPL.Selector}[Set()], [0], Dict{String, BitVector}(\"del\" => [0], \"trans\" => [0])), A_IA = DynamicPPL.Metadata{Dict{VarName{:A_IA, Setfield.IdentityLens}, Int64}, Vector{Uniform{Float64}}, Vector{VarName{:A_IA, Setfield.IdentityLens}}, Vector{Float64}, Vector{Set{DynamicPPL.Selector}}}(Dict(A_IA => 1), [A_IA], UnitRange{Int64}[1:1], [1.983967709741413], Uniform{Float64}[Uniform{Float64}(a=-5.0, b=5.0)], Set{DynamicPPL.Selector}[Set()], [0], Dict{String, BitVector}(\"del\" => [0], \"trans\" => [0])), alpha_IA = DynamicPPL.Metadata{Dict{VarName{:alpha_IA, Setfield.IdentityLens}, Int64}, Vector{Uniform{Float64}}, Vector{VarName{:alpha_IA, Setfield.IdentityLens}}, Vector{Float64}, Vector{Set{DynamicPPL.Selector}}}(Dict(alpha_IA => 1), [alpha_IA], UnitRange{Int64}[1:1], [1.78111872464624], Uniform{Float64}[Uniform{Float64}(a=-5.0, b=5.0)], Set{DynamicPPL.Selector}[Set()], [0], Dict{String, BitVector}(\"del\" => [0], \"trans\" => [0]))), Base.RefValue{Float64}(6680.4754634062), Base.RefValue{Int64}(1))"
      ]
     },
     "execution_count": 11,
     "metadata": {},
     "output_type": "execute_result"
    }
   ],
   "source": [
    "context = stat_model.context\n",
    "varinfo = DynamicPPL.VarInfo(stat_model, context)"
   ]
  },
  {
   "cell_type": "code",
   "execution_count": 12,
   "id": "13940da8",
   "metadata": {},
   "outputs": [
    {
     "data": {
      "text/plain": [
       "Hamiltonian(metric=DenseEuclideanMetric(diag=[0.0017491365706465293, 0.0 ...]), kinetic=GaussianKinetic())"
      ]
     },
     "execution_count": 12,
     "metadata": {},
     "output_type": "execute_result"
    }
   ],
   "source": [
    "ℓ = LogDensityProblemsAD.ADgradient(DynamicPPL.LogDensityFunction(varinfo, stat_model, context))\n",
    "lπ = Base.Fix1(LogDensityProblems.logdensity, ℓ)\n",
    "∂lπ∂θ(x) = LogDensityProblems.logdensity_and_gradient(ℓ, x)\n",
    "metric = DenseEuclideanMetric(hess_cov)\n",
    "hamiltonian = AdvancedHMC.Hamiltonian(metric, lπ, ∂lπ∂θ)"
   ]
  },
  {
   "cell_type": "code",
   "execution_count": null,
   "id": "9a554c93",
   "metadata": {},
   "outputs": [
    {
     "name": "stderr",
     "output_type": "stream",
     "text": [
      "\u001b[33m\u001b[1m┌ \u001b[22m\u001b[39m\u001b[33m\u001b[1mWarning: \u001b[22m\u001b[39mThe current proposal will be rejected due to numerical error(s).\n",
      "\u001b[33m\u001b[1m│ \u001b[22m\u001b[39m  isfinite.((θ, r, ℓπ, ℓκ)) = (true, true, false, true)\n",
      "\u001b[33m\u001b[1m└ \u001b[22m\u001b[39m\u001b[90m@ AdvancedHMC ~/.julia/packages/AdvancedHMC/eLdgX/src/hamiltonian.jl:49\u001b[39m\n",
      "\r",
      "\u001b[32mSampling   0%|                               |  ETA: 18:42:41\u001b[39m\r\n",
      "\u001b[34m  iterations:                    2\u001b[39m\r\n",
      "\u001b[34m  n_steps:                       1\u001b[39m\r\n",
      "\u001b[34m  is_accept:                     true\u001b[39m\r\n",
      "\u001b[34m  acceptance_rate:               0.0\u001b[39m\r\n",
      "\u001b[34m  log_density:                   8622.109007042482\u001b[39m\r\n",
      "\u001b[34m  hamiltonian_energy:            -8602.949569277567\u001b[39m\r\n",
      "\u001b[34m  hamiltonian_energy_error:      0.0\u001b[39m\r\n",
      "\u001b[34m  max_hamiltonian_energy_error:  Inf\u001b[39m\r\n",
      "\u001b[34m  tree_depth:                    0\u001b[39m\r\n",
      "\u001b[34m  numerical_error:               true\u001b[39m\r\n",
      "\u001b[34m  step_size:                     0.3253429190059853\u001b[39m\r\n",
      "\u001b[34m  nom_step_size:                 0.3253429190059853\u001b[39m\r\n",
      "\u001b[34m  is_adapt:                      true\u001b[39m\r\n",
      "\u001b[34m  mass_matrix:                   DenseEuclideanMetric(diag=[0.0017491365706465293, 0.0 ...])\u001b[39m"
     ]
    }
   ],
   "source": [
    "# Set the number of samples to draw and warmup iterations\n",
    "n_samples, n_adapts = 2_000, 1_000\n",
    "initial_ϵ = find_good_stepsize(hamiltonian, MAP)\n",
    "integrator = Leapfrog(initial_ϵ)\n",
    "\n",
    "# Define an HMC sampler, with the following components\n",
    "#   - multinomial sampling scheme,\n",
    "#   - generalised No-U-Turn criteria, and\n",
    "#   - windowed adaption for step-size and diagonal mass matrix\n",
    "proposal = AdvancedHMC.NUTS{MultinomialTS, GeneralisedNoUTurn}(integrator)\n",
    "adaptor = StanHMCAdaptor(MassMatrixAdaptor(metric), StepSizeAdaptor(0.8, integrator))\n",
    "\n",
    "# Run the sampler to draw samples from the specified Gaussian, where\n",
    "#   - `samples` will store the samples\n",
    "#   - `stats` will store diagnostic statistics for each sample\n",
    "samples, stats = sample(hamiltonian, proposal, MAP, n_samples, adaptor, n_adapts; progress=true)"
   ]
  },
  {
   "cell_type": "code",
   "execution_count": null,
   "id": "3f30409c",
   "metadata": {},
   "outputs": [],
   "source": []
  }
 ],
 "metadata": {
  "kernelspec": {
   "display_name": "Julia 1.9.0-beta3",
   "language": "julia",
   "name": "julia-1.9"
  },
  "language_info": {
   "file_extension": ".jl",
   "mimetype": "application/julia",
   "name": "julia",
   "version": "1.9.0"
  }
 },
 "nbformat": 4,
 "nbformat_minor": 5
}
